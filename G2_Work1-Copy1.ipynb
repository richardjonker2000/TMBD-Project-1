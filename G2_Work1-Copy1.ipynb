{
 "cells": [
  {
   "cell_type": "markdown",
   "metadata": {},
   "source": [
    "# **Group 2 - Work 1**\n",
    "\n",
    "**Task :** \n",
    "Each group should choose between HLL or Boom filters and produce an iPynb file with python code and markdown, which:\n",
    "\n",
    "- Briefly explains what the algorithm’s purpose is [15%];\n",
    "- Discuss a possible (real) application of the algorithm [25%];\n",
    "- Describe the packages/microservices you are going to use [15%];\n",
    "- Implement the code simulating this real application [45%]."
   ]
  },
  {
   "cell_type": "markdown",
   "metadata": {},
   "source": [
    "## **Students :**\n",
    "- Daniel Filipe Vilhena Nunes (101220)\n",
    "- Prosper Ablordeppey (106382)\n",
    "- Richard Adolph Aires Jonker (109560)\n",
    "- Roshan Poudel (109806)"
   ]
  },
  {
   "cell_type": "markdown",
   "metadata": {
    "tags": []
   },
   "source": [
    "# Hyper Log Log Algorithm (HLL)"
   ]
  },
  {
   "cell_type": "markdown",
   "metadata": {},
   "source": [
    "\n",
    "_All information in this section is based on (Flajolet et al., 2007)_\n",
    "\n",
    "HLL is a probabilistic algorithm belonging to the family of Flajolet-Martin (FM) derived algorithms. The way FM works is by counting the trailing zeros of a hashed bit string and returning a probable count of distinct values in a data stream. Derived from it we find the LogLog algorithm and from this we derive the HLL algorithm.\n",
    "In essence, we count _leading_ zeros from a part of a hashed bit string, store them in an appropriate register and return a probable count of distinct values. \n",
    "\n",
    "The rationale is that if a bit string has length $L$, there are $2^L$ possible distinct values for it. If the first bit is 1, now there are only $2^{L-1}$ possible values – half of the total. So, if we denote by N the number of leading zeros of a bit string, we get that it has $2^{L-(N+1)}$ possible values. This is the basis for the HLL algorithm. Now, if we find a string that has $N’>N$ leading zeros, we assume that there are instead $2^{L-(N’+1)}$ distinct values. In essence, we store the highest count of leading zeros. \n",
    "\n",
    "If only one register is used, all we get is the highest count of leading zeros which leads to error. For instance, if the highest count is 8 in a 9-bit string, is it correct to assume that there is only one distinct value? Following the procedure in FM and LogLog, HLL also implements several registers, which reduces the error. As such, we define the HLL structure as being composed of $m$ registers where each will hold the highest count of leading zeros of a bit string assigned to it.\n",
    "\n",
    "Given the object ($d$) of data stream ($\\sigma$), we pass it as the argument of a hash function ($h: D \\rightarrow \\{0,1\\}^L$) which return a bit string of length $L$ ($h(d)$). The first $k$ bits of $h(d)$ indicate the register that will hold the count ($m=2^k$). The remaining bits of $h(d)$ (length is $L-k$) are the one where the number of leading zeros are counted. Namely, the value stored corresponds to the position of the leftmost bit with value $1$. Contrary to the usual programming paradigm, the first bit corresponds to a position of 1 and not of 0. If there are no bits with value zero, the value held is $L-k+1$. The highest count corresponding to a register is always the one to be stored.\n",
    "\n",
    "Afterwards, when the entire data stream has been processed, the product of the harmonic mean of $2^{N_i}$ ($z$), where $N_i$ is the count associated with the $i$-th register, with $m$ gives a first estimation of the true count of distinct values."
   ]
  },
  {
   "cell_type": "markdown",
   "metadata": {},
   "source": [
    "## Bias and Range Corrections\n",
    "\n",
    "Also introduced in (Flajolet et al., 2007) is the use of two corrections to the result previously obtained, these are determined as _bias correction_ ($\\alpha_m$) and _range correction_.\n",
    "\n",
    "### Bias Correction\n",
    "\n",
    "The parameter is given by:\n",
    "\n",
    "$$\\alpha_m = \\left(m \\int_0^\\infty \\left(\\log_2\\left(\\frac{2+u}{1+u}\\right)\\right)^m du\\right)^{-1}$$\n",
    "\n",
    "For some commonly used values of $m$:\n",
    "$\\alpha_{16} = 0.673$  \n",
    "$\\alpha_{32} = 0.697$  \n",
    "$\\alpha_{64} = 0.709$  \n",
    "$\\alpha_{m\\ge128} = \\frac{0.7213}{1+\\frac{1.079}{m}}$\n",
    "\n",
    "Multiplying this parameter by the previous estimation, a raw estimation ($E$) is obtained:\n",
    "$$E = \\alpha_m m z$$\n",
    "\n",
    "### Range Correction\n",
    "\n",
    "Performance of the algorithm is divided in three ranges (defined through $E$ and $m$, each with an associated correction which gives the final count estimation ($E^*$).\n",
    "\n",
    "**Small range: $E \\le \\frac{5}{2}m$**  \n",
    "> Let $V$ be the number of registers equal to 0. \n",
    "If $V \\ne 0 \\rightarrow E^* := m\\log\\left(\\frac{m}{V}\\right)$, otherwise $E^* := E$\n",
    "\n",
    "**Intermediate range: $\\frac{5}{2}m < E \\le \\frac{1}{30}2^{32}$**  \n",
    "> No correction is applied, $E^* := E$\n",
    "\n",
    "**Large range: $E > \\frac{1}{30}2^{32}$**  \n",
    "> Simply set $E^*:= -2^{32} \\log\\left(1-\\frac{E}{2^{32}}\\right)$"
   ]
  },
  {
   "cell_type": "markdown",
   "metadata": {
    "tags": []
   },
   "source": [
    "# Real world uses of HLL\n",
    "HyperLogLog is mainly used to  estimate the number of unique values within a very large dataset or stream using little memory and time. \n",
    "\n",
    "- Counting unique views on a Reddit post.( [View Counting at Reddit](https://www.redditinc.com/blog/view-counting-at-reddit/) )\n",
    "- Facebook uses HLL in Presto to speed up distinct queries (for example determine the number of distinct people visiting Facebook in the past week). ( [HLL in Presto](https://engineering.fb.com/2018/12/13/data-infrastructure/hyperloglog/) )\n",
    "\n",
    "\n",
    "- Other possible uses could be counting unique visitors on a website or counting people at a event (using ticket IDs) or counting total visitors at a airport or counting distinct number of cars passing a junction.\n",
    "\n",
    "### Counting unique visitors on a website\n",
    "A possible use for HLL algorithm could be counting unique number of visitors on a website. As same user can visit the same website multiple times and usually exact number of visitors is not needed, HLL would be perfect for this application. We can simply use the IP address of the user to determine unique number of visitors. "
   ]
  },
  {
   "cell_type": "markdown",
   "metadata": {
    "tags": []
   },
   "source": [
    "# Implementation of HLL\n",
    "\n",
    "To implement the HLL algorithm, an object-based approach was taken. A class representing it was defined and its methods provide the desired functionalities - from the actual distinct count to comparing the result with an exact answer."
   ]
  },
  {
   "cell_type": "markdown",
   "metadata": {
    "jp-MarkdownHeadingCollapsed": true,
    "tags": []
   },
   "source": [
    "## Methods Description\n",
    "\n",
    "Methods included in the `HLLAlg` class are:\n",
    "\n",
    "`hashString(self, value)`\n",
    "> Takes as input `value`, which is to say, an object of a data stream. This (if not already) is converted to `string` format and passed to a hash function (`sha1` was chosen). This hashed bit string is returned with a fixed length of 24.\n",
    "\n",
    "`initialise_registers(self)`\n",
    "> From the defined error rate, $m$ and $k$ are determined. The variable `hll_struct` is initialized as a dictionary of length $m$, with the each key corresponding to the number of the register and each value is initially set at 0.\n",
    "\n",
    "`alg(self, stream)`\n",
    "> Implementation of the HLL Algorithm previously described. Takes as input a data stream and returns a probabilistic count of distinct values in the stream.\n",
    "\n",
    "`verify(self, stream)`\n",
    "> Verification of the result. Simply prints the result of the implemented algorithm and the exact number of distinct values. The later being found by converting the stream to a Python **`set`** and pass it to Python's `len()` (length) function."
   ]
  },
  {
   "cell_type": "markdown",
   "metadata": {
    "tags": []
   },
   "source": [
    "## The Code"
   ]
  },
  {
   "cell_type": "code",
   "execution_count": 1,
   "metadata": {},
   "outputs": [],
   "source": [
    "import hashlib\n",
    "import math\n",
    "import numpy as np\n",
    "import random\n",
    "import statistics as st"
   ]
  },
  {
   "cell_type": "code",
   "execution_count": 37,
   "metadata": {},
   "outputs": [],
   "source": [
    "# error rate allows us to determine the number of registers (m) to be used\n",
    "error_rate = 0.01\n",
    "class HLLAlg:\n",
    "\n",
    "    # First we need to define the hash function, \n",
    "    # converting a string with any length \n",
    "    # to a string of binary characters (0, 1) with fixed length (24)\n",
    "    def hashString(self, value):\n",
    "        if not isinstance(value, str):\n",
    "            value = str(value)\n",
    "        \n",
    "        hashcode=hashlib.sha1(value.encode('utf-8')).hexdigest()\n",
    "        bin_code = bin(int(hashcode, 16))[-24:].zfill(24)\n",
    "    \n",
    "        return bin_code\n",
    "\n",
    "    # Here registers are initialized as 0, with m being determined from the desired error rate\n",
    "    def initialise_registers(self):\n",
    "        #self.k = 4\n",
    "        if error_rate is not None:\n",
    "            self.m = (1.04/error_rate)**2\n",
    "            self.k = math.ceil(math.log(self.m, 2))\n",
    "        self.m = 2**self.k\n",
    "        self.hll_struct = {r: 0 for r in range(self.m)}\n",
    "    \n",
    "\n",
    "    # Now for the algorithm itself\n",
    "    def alg(self, stream):\n",
    "        self.initialise_registers()\n",
    "        for d in stream:\n",
    "            # Map the object d from a data stream using the defined hash function\n",
    "            dh = self.hashString(d)\n",
    "            # Selecting the first k digits of dh to determine the register (converting the value to int)\n",
    "            r = int(dh[:self.k], 2)\n",
    "            # The remaining digits are where we count the leading 0s\n",
    "            q = dh[self.k:]\n",
    "            \n",
    "            # If the hashed string is 000...0, we register its length+1, \n",
    "            # as if the first 1 was just outside the string\n",
    "            if q.find(\"1\") == -1:\n",
    "                count = len(q)+1\n",
    "            # Otherwise we find the position of the 1 in the string and just add 1 to it.\n",
    "            # Equivalent to counting from 1 instead of from 0\n",
    "            else:\n",
    "                count = q.find(\"1\")+1\n",
    "                \n",
    "            # Now, if the count is higher than what is already in the designated register\n",
    "            # we keep the new count, otherwise we won't change it\n",
    "            if (count > self.hll_struct[r]):\n",
    "                self.hll_struct[r] = count\n",
    "\n",
    "        # We take all registered counts and use them to make a list of powers of 2\n",
    "        # Imagine the register has 0, that means there were no leading zeros in a string of length L\n",
    "        # Which means that there are 2^(L-1) possible values for it\n",
    "        # Or of the 2^L possible values for said string, half of them don't start with a zero\n",
    "        # This 2^x gives us the inverse of that probability\n",
    "\n",
    "        vals = [x for x in self.hll_struct.values() if x != 0] # ignoring the registers with no value\n",
    "        v = [2**x for x in vals]        \n",
    "        print(\"%d/%d registers holding some count\" % (len(v), self.m))\n",
    "\n",
    "                \n",
    "        # According to the original article, we now take the harmonic mean of the entire list of powers of 2\n",
    "        z = st.harmonic_mean(v)\n",
    "        \n",
    "        # Alfa is a correction parameter also introduced in the article    \n",
    "        alfa_dict = {16: 0.673, 32: 0.697, 64: 0.709, 128: 0.7213/(1+(1.079/self.m))}\n",
    "        alfa = alfa_dict[128]\n",
    "\n",
    "        # So the raw estimation is alfa*m*z. Te article says m^2 instead of m.\n",
    "        # But in the article z is defined as the harmonic mean/m\n",
    "        # Which means that this is equivalent\n",
    "        raw = alfa*self.m*z\n",
    "        \n",
    "        # These are the range corrections also introduced in the article\n",
    "        # The algorithm works really well for that intermediate range. \n",
    "        # Below or above that it needs some help\n",
    "        if raw <= 2.5*self.m:\n",
    "            print(\"Small range correction\")\n",
    "            u = len([x for x in self.hll_struct.values() if x==0])\n",
    "            if u != 0:\n",
    "                return self.m*math.log(self.m/u)\n",
    "            else:\n",
    "                return raw\n",
    "        elif raw <= (1/30)*2**32:\n",
    "            print(\"Intermediate range correction\")\n",
    "            return raw\n",
    "        else:\n",
    "            print(\"Large range correction\")\n",
    "            return -(2**32)*math.log(1-raw/(2**32))\n",
    "                \n",
    "        return 0\n",
    "      \n",
    "\n",
    "    def verify(self, stream):\n",
    "        print(f\"Estimated distinct values: {self.alg(stream)}\")\n",
    "        print(f\"Actual distinct values: {len(set(stream))}\")\n",
    "        print(f\"Total length of stream : {len(stream)}\")"
   ]
  },
  {
   "cell_type": "markdown",
   "metadata": {
    "tags": []
   },
   "source": [
    "# Simulating counting Unique IP addresses"
   ]
  },
  {
   "cell_type": "code",
   "execution_count": 38,
   "metadata": {},
   "outputs": [],
   "source": [
    "ip_stream = []\n",
    "for i in range(100000):\n",
    "    \n",
    "    # Generate random IP address following format XXXX.XXXX.XXXX.XXXX\n",
    "    ip = \".\".join(map(str, (random.randint(0, 255) \n",
    "                        for _ in range(4))))\n",
    "    \n",
    "    ip_stream.append(ip)"
   ]
  },
  {
   "cell_type": "code",
   "execution_count": 39,
   "metadata": {},
   "outputs": [
    {
     "name": "stdout",
     "output_type": "stream",
     "text": [
      "['205.193.86.223', '82.35.139.96', '87.218.135.159']\n"
     ]
    }
   ],
   "source": [
    "print(ip_stream[:3])"
   ]
  },
  {
   "cell_type": "code",
   "execution_count": null,
   "metadata": {},
   "outputs": [],
   "source": []
  },
  {
   "cell_type": "code",
   "execution_count": null,
   "metadata": {},
   "outputs": [],
   "source": []
  },
  {
   "cell_type": "code",
   "execution_count": 40,
   "metadata": {},
   "outputs": [
    {
     "name": "stdout",
     "output_type": "stream",
     "text": [
      "16350/16384 registers holding some count\n",
      "Intermediate range correction\n",
      "Estimated distinct values: 101088.45018584905\n",
      "Actual distinct values: 99999\n",
      "Total length of stream : 100000\n"
     ]
    }
   ],
   "source": [
    "hll_alg = HLLAlg()\n",
    "hll_alg.verify(ip_stream)"
   ]
  },
  {
   "cell_type": "markdown",
   "metadata": {
    "tags": []
   },
   "source": [
    "## References\n",
    "\n",
    "\n",
    "Flajolet et al. (2007), HyperLogLog: the analysis of a near-optimal cardinality estimation algorithm. 2007 Conference on Analysis of Algorithms, AofA 07, DMTCS proc. AH, 2007, 127–146\n",
    "\n"
   ]
  },
  {
   "cell_type": "code",
   "execution_count": 44,
   "metadata": {},
   "outputs": [],
   "source": [
    "x = StreamAlg(ip_stream) "
   ]
  },
  {
   "cell_type": "code",
   "execution_count": 45,
   "metadata": {},
   "outputs": [
    {
     "name": "stdout",
     "output_type": "stream",
     "text": [
      "16350/16384 registers holding some count\n",
      "Intermediate range correction\n",
      "101088.45018584905\n",
      "Estimated distinct values: 101088.45018584905   ≡   101088\n"
     ]
    }
   ],
   "source": [
    "x.exec()"
   ]
  },
  {
   "cell_type": "code",
   "execution_count": null,
   "metadata": {},
   "outputs": [],
   "source": []
  },
  {
   "cell_type": "code",
   "execution_count": 43,
   "metadata": {},
   "outputs": [],
   "source": [
    "import numpy as np\n",
    "import random \n",
    "import math\n",
    "import hashlib\n",
    "import statistics\n",
    "\n",
    "\n",
    "class BaseAlg:\n",
    "    def __init__(self):\n",
    "        \"\"\"\n",
    "        Initializes the variables for implementation in base class.\n",
    "        \n",
    "        Sets:\n",
    "            self.registers - the struct to hold all counts\n",
    "            self.k - number of bits of the struct/register to consider\n",
    "            self.m - actual struct size or cardinality.\n",
    "            self.error_rate - error rate\n",
    "            self.results - final estimation\n",
    "        \"\"\"\n",
    "        self.registers = None\n",
    "        self.k = None\n",
    "        self.m = None\n",
    "        self.error_rate = None\n",
    "        self.results = None\n",
    "        \n",
    "\n",
    "    def hashString(self, value_to_hash):\n",
    "        \"\"\"\n",
    "        Hashes the input using the sha1 standard algorithm and returns a \n",
    "        string of binary characters (0, 1) with fixed length (24)\n",
    "        \n",
    "        Args:\n",
    "            value_to_hash [str,int] - represents the value to hash.\n",
    "        Returns:\n",
    "            padded_binary [str] - a hashed string of binary characters (0, 1)\n",
    "            with fixed length (24)\n",
    "            \n",
    "        Example\n",
    "            >> self.hashString(25)\n",
    "            >> '011001000000010000000000'\n",
    "            >> len(self.hashString(25))\n",
    "            >> 24\n",
    "\n",
    "        \"\"\"\n",
    "\n",
    "        if not isinstance(value_to_hash, str):\n",
    "            value_to_hash = str(value_to_hash) # required by the encoding function\n",
    "        \n",
    "        hashcode=hashlib.sha1(value_to_hash.encode('utf-8')).hexdigest()\n",
    "        bin_code = bin(int(hashcode, 16))[-24:].zfill(24) # output padded to 24 bit string\n",
    "        return bin_code\n",
    "\n",
    "    \n",
    "    def initialise_registers(self):\n",
    "        \"\"\"\n",
    "        Creates the required register for algorithm implementation with all\n",
    "        of the registers initialized as 0. Number of registers are determined\n",
    "        based on error_rate (if defined) else uses the default m = 2**k.\n",
    "\n",
    "        The lower the error_rate, the higher the amount of space or register \n",
    "        size needed which results on higher the precision to actual count.\n",
    "\n",
    "        Sets:\n",
    "            self.m - the actual size of the struct/register\n",
    "            self.registers - container/struct to hold the register of zeros in each bit position of the struct.\n",
    "        \"\"\"\n",
    "        \n",
    "        self.k = 4 # used to calculate default m if error not set\n",
    "        self.error_rate = 0.01 # None, 0.1, 0.01, 0.001 change to see effects\n",
    "\n",
    "        if self.error_rate is not None:\n",
    "            self.m = (1.04/self.error_rate)**2\n",
    "            self.k = math.ceil(math.log(self.m, 2))\n",
    "        \n",
    "        self.m = 2**self.k # actual struct size computation\n",
    "        self.registers = {r: 0 for r in range(self.m)}  # initialize the registers with 0\n",
    "    \n",
    "\n",
    "    def alg(self):\n",
    "        \"\"\"\n",
    "        Main register implementation that updates the count of unique elements in the stream.\n",
    "        ensures for all datastream elements, the register is rightly updated (reason for one-time run)\n",
    "\n",
    "        Updates:\n",
    "            self.register - updates the register to for approximation\n",
    "        \"\"\"\n",
    "        \n",
    "        # ensure initializer is called once \n",
    "        if not self.init:\n",
    "            self.initialise_registers()\n",
    "            self.init = True\n",
    "\n",
    "        \n",
    "        x_hashed = self.hashString(self.x) # obtains the hash of x based on the hashString function\n",
    "        key = int(x_hashed[:self.k], 2)  # extracts first k bits of x_hashed as key\n",
    "        q = x_hashed[self.k:] # obtains the last len(x_hashed)-k bitstring of x_hashed \n",
    "\n",
    "        \n",
    "        if q.find('1') == -1:\n",
    "            value_count = len(q) + 1\n",
    "        else:\n",
    "            value_count = q.find('1') + 1\n",
    "            \n",
    "            \n",
    "        if value_count > self.registers[key]:\n",
    "            self.registers[key] = value_count\n",
    "\n",
    "\n",
    "\n",
    "    def range_correction_results(self):\n",
    "        \"\"\"\n",
    "        HLL++ range correction implemented in this module\n",
    "        \"\"\"\n",
    "        \n",
    "        vals = [x for x in self.registers.values() if x != 0]\n",
    "        v = [2**x for x in vals]\n",
    "\n",
    "        print(\"%d/%d registers holding some count\" % (len(v), self.m))\n",
    "\n",
    "        z = statistics.harmonic_mean(v)\n",
    "        \n",
    "        alfa_dict = {16: 0.673, 32: 0.697, 64: 0.709, 128: 0.7213/(1+(1.079/self.m))}\n",
    "        alfa = alfa_dict[128]\n",
    "\n",
    "        raw = alfa*self.m*z\n",
    "\n",
    "        if raw <= 2.5*self.m:\n",
    "            print(\"Small range correction\")\n",
    "            u = len([x for x in self.registers.values() if x==0])\n",
    "            if u != 0:\n",
    "                self.results = self.m*math.log(self.m/u)\n",
    "            else:\n",
    "                self.results =  raw\n",
    "                \n",
    "        elif raw <= (1/30)*2**32:\n",
    "            print(\"Intermediate range correction\")\n",
    "            self.results = raw\n",
    "            \n",
    "        else:\n",
    "            print(\"Large range correction\")\n",
    "            self.results = -(2**32)*math.log(1-raw/(2**32))\n",
    "        \n",
    "        print(self.results)\n",
    "        return 0\n",
    "\n",
    "\n",
    "    def verify(self):\n",
    "        \"\"\"\n",
    "        computes the exact results using a deterministic algorithm.\n",
    "        computation is solely for comparison with the approximated value\n",
    "        \"\"\"\n",
    "        \n",
    "        print(f\"Actual distinct values: {len(set(self.stream))}\")\n",
    "        print(f\"Total stream values: {len(self.stream)}\")\n",
    "\n",
    "\n",
    "class StreamAlg(BaseAlg):\n",
    "    def __init__(self, stream):\n",
    "        self.stream = stream\n",
    "        self.init = False\n",
    "        \n",
    "\n",
    "    def exec(self):\n",
    "        \"\"\"\n",
    "        Passes each value of the data stream to the alg function for register update. \n",
    "        \"\"\"\n",
    "        for v in self.stream:\n",
    "            self.x = v\n",
    "            self.alg()\n",
    "        self.range_correction_results()\n",
    "        print(f\"Estimated distinct values: {self.results}   ≡   {int(self.results)}\")\n"
   ]
  },
  {
   "cell_type": "code",
   "execution_count": null,
   "metadata": {},
   "outputs": [],
   "source": []
  }
 ],
 "metadata": {
  "interpreter": {
   "hash": "31f2aee4e71d21fbe5cf8b01ff0e069b9275f58929596ceb00d14d90e3e16cd6"
  },
  "kernelspec": {
   "display_name": "Python 3",
   "language": "python",
   "name": "python3"
  },
  "language_info": {
   "codemirror_mode": {
    "name": "ipython",
    "version": 3
   },
   "file_extension": ".py",
   "mimetype": "text/x-python",
   "name": "python",
   "nbconvert_exporter": "python",
   "pygments_lexer": "ipython3",
   "version": "3.8.5"
  }
 },
 "nbformat": 4,
 "nbformat_minor": 4
}
