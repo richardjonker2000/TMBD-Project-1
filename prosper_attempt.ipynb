{
    "cells": [
        {
            "cell_type": "code",
            "execution_count": null,
            "metadata": {},
            "outputs": [],
            "source": []
        },
        {
            "cell_type": "markdown",
            "metadata": {},
            "source": [
                "# What is HyperLogLog (HLL)\n",
                "\n",
                "A brief introduction is needed to define the purpose and reason for the HLL algorithm properly. First, we briefly present a definition of the following essential terminologies:\n",
                "- multiset and its multiplicity\n",
                "- data stream and source\n",
                "- the purpose of the HLL algorithm on a multiset\n",
                "\n",
                "A set is basically a collection of well-defined objects. We refer to these objects as members or elements of the set. A multiset, on the other hand, is a collection of multiple unordered items or elements. Thus, a multiset could be thought of as a set with the possibility of repeated elements.\n",
                "\n",
                "The multiplicity of an element x in a multiset is the number of times that element appears in the set. In other words, each element of a multiset may have a multiplicity of more than one (1). Thus, the elements of a multiset may be repeated or not. For instance, in the multiset {3, 3, 4, 5, 6} element 3 has multiplicity 2. The elements 4, 5, and 6 all have multiplicities of 1. Order doesn’t matter, so {3, 3, 4, 5, 6} is the same as {3, 4, 6, 5, 3}.\n",
                "\n",
                "Data collected in real life could be of finite cardinality, where the total number of elements in the dataset are known, or infinite cardinality, where the cardinality of the dataset is not known. \n",
                "\n",
                "A data stream is a countably infinite sequence of elements used to represent data elements that are made available over time. Examples are readings from sensors, financial transaction logs, or network data in computer monitoring applications (activity logs from web browsers, IP addresses). Data presented in this fashion is referred to as data stream.\n",
                "\n",
                "Most often, a count of the total number of distinct elements for a stream of data is needed to aid analysis and inform decisions. Literature reveals proposed algorithms that are well efficient for counting distinct values in small datasets. Unfortunately, for very large datasets, these algorithms fail or report incorrect values with high intolerable errors. In addition, calculating the exact cardinality of unique elements in a multiset/data stream requires an amount of memory proportional to the cardinality of the multiset/data stream, which is impractical in real life. \n",
                "\n",
                "For these reasons, the HLL algorithm was proposed to primarily approximate the number of distinct elements in a very large multiset or data stream. The HLL is a probabilistic cardinality estimator, use significantly less memory to obtain an approximation of the cardinality. The HyperLogLog algorithm is able to estimate cardinalities of > 10**9 with a typical accuracy (standard error) of 2%, using 1.5 kB of memory. HyperLogLog is an extension of the earlier LogLog algorithm, itself deriving from the 1984 Flajolet–Martin algorithm\n"
            ]
        },
        {
            "cell_type": "markdown",
            "metadata": {},
            "source": [
                "# How does the HLL work\n",
                "\n",
                "This presentation makes a slight modification to the original algorithm to include bias and range corrections which help significantly with the results and provide a better description of the algorithm than the one in the lecture slides.\n",
                "\n",
                "~to be continued.... "
            ]
        },
        {
            "cell_type": "markdown",
            "metadata": {},
            "source": []
        }
    ],
    "metadata": {
        "language_info": {
            "name": "python"
        },
        "orig_nbformat": 4
    },
    "nbformat": 4,
    "nbformat_minor": 2
}
