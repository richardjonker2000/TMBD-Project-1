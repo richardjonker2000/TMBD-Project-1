{
 "cells": [
  {
   "cell_type": "code",
   "execution_count": 15,
   "metadata": {},
   "outputs": [],
   "source": [
    "def hashString(value):\n",
    "    if not isinstance(value, str):\n",
    "        value = str(value)\n",
    "        \n",
    "    hashcode=hashlib.sha1(value.encode('utf-8')).hexdigest()\n",
    "    bin_code = bin(int(hashcode, 16))[-24:].zfill(24)\n",
    "    \n",
    "    return bin_code"
   ]
  },
  {
   "cell_type": "code",
   "execution_count": 16,
   "metadata": {},
   "outputs": [],
   "source": [
    "import hashlib, math\n",
    "import statistics\n",
    "import random"
   ]
  },
  {
   "cell_type": "code",
   "execution_count": 102,
   "metadata": {},
   "outputs": [],
   "source": [
    "stream = []\n",
    "for i in range(500000):\n",
    "    \n",
    "    # Generate random IP address following format XXXX.XXXX.XXXX.XXXX\n",
    "    ip = \".\".join(map(str, (random.randint(0, 255) \n",
    "                        for _ in range(4))))\n",
    "    \n",
    "    stream.append(ip)"
   ]
  },
  {
   "cell_type": "code",
   "execution_count": 17,
   "metadata": {},
   "outputs": [],
   "source": [
    "stream = [random.randint(1,]"
   ]
  },
  {
   "cell_type": "code",
   "execution_count": 27,
   "metadata": {},
   "outputs": [
    {
     "name": "stdout",
     "output_type": "stream",
     "text": [
      "{0: 0, 1: 0, 2: 0, 3: 0, 4: 0, 5: 0, 6: 0, 7: 0, 8: 0, 9: 0, 10: 0, 11: 0, 12: 0, 13: 0, 14: 0, 15: 0}\n"
     ]
    }
   ],
   "source": [
    "b = 4\n",
    "m = 2**b\n",
    "\n",
    "\n",
    "registers = {x: 0 for x in range(m)}\n",
    "\n",
    "print(registers)"
   ]
  },
  {
   "cell_type": "code",
   "execution_count": 28,
   "metadata": {},
   "outputs": [],
   "source": [
    "for data in stream:\n",
    "    bin_code = hashString(data)\n",
    "    bucket = int(bin_code[:b], 2)\n",
    "    value = bin_code[b:]\n",
    "    \n",
    "    #print(f\"original => {value}       Rstripped => {value.rstrip('0')}\")\n",
    "    count = (len(value)-len(value.rstrip('0'))) + 1\n",
    "\n",
    "    if registers.get(bucket) == 0 or registers.get(bucket) < count:\n",
    "        registers[bucket] = count"
   ]
  },
  {
   "cell_type": "code",
   "execution_count": 33,
   "metadata": {},
   "outputs": [],
   "source": [
    "reg_values = list(registers.values())\n",
    "#reg_values = [x for x in reg_values if x != 0]\n",
    "\n",
    "Z = statistics.harmonic_mean(reg_values)\n",
    "\n",
    "alpha = 0.673"
   ]
  },
  {
   "cell_type": "code",
   "execution_count": 34,
   "metadata": {},
   "outputs": [],
   "source": [
    "results = alpha * (m**2) * Z"
   ]
  },
  {
   "cell_type": "code",
   "execution_count": 37,
   "metadata": {},
   "outputs": [
    {
     "data": {
      "text/plain": [
       "0"
      ]
     },
     "execution_count": 37,
     "metadata": {},
     "output_type": "execute_result"
    }
   ],
   "source": [
    "Z"
   ]
  },
  {
   "cell_type": "code",
   "execution_count": 35,
   "metadata": {},
   "outputs": [
    {
     "data": {
      "text/plain": [
       "0.0"
      ]
     },
     "execution_count": 35,
     "metadata": {},
     "output_type": "execute_result"
    }
   ],
   "source": [
    "results"
   ]
  },
  {
   "cell_type": "code",
   "execution_count": 36,
   "metadata": {},
   "outputs": [
    {
     "data": {
      "text/plain": [
       "{0: 0,\n",
       " 1: 0,\n",
       " 2: 0,\n",
       " 3: 2,\n",
       " 4: 0,\n",
       " 5: 4,\n",
       " 6: 1,\n",
       " 7: 1,\n",
       " 8: 0,\n",
       " 9: 5,\n",
       " 10: 1,\n",
       " 11: 0,\n",
       " 12: 0,\n",
       " 13: 0,\n",
       " 14: 0,\n",
       " 15: 0}"
      ]
     },
     "execution_count": 36,
     "metadata": {},
     "output_type": "execute_result"
    }
   ],
   "source": [
    "registers"
   ]
  },
  {
   "cell_type": "code",
   "execution_count": 105,
   "metadata": {},
   "outputs": [],
   "source": [
    "for data in stream:\n",
    "    \n",
    "    bin_code = hashString(data)\n",
    "    bucket = int(bin_code[:b])\n",
    "    value = bin_code[b:]\n",
    "    leading_zeros = (len(value) - len(value.lstrip('0'))) + 1\n",
    "    \n",
    "    #print(f\"Bucket  ==>  {bucket}  \\nBinary value  ==>  {value}  \\nZeros  ==>  {leading_zeros}\")\n",
    "    \n",
    "    if registers.get(bucket) is None or registers.get(bucket) < leading_zeros:\n",
    "        #print(f\"Changing value from {registers.get(bucket)} to {leading_zeros}\")\n",
    "        registers[bucket] = leading_zeros\n",
    "        \n",
    "    #print(\"\\n\\n\")"
   ]
  }
 ],
 "metadata": {
  "kernelspec": {
   "display_name": "Python 3",
   "language": "python",
   "name": "python3"
  },
  "language_info": {
   "codemirror_mode": {
    "name": "ipython",
    "version": 3
   },
   "file_extension": ".py",
   "mimetype": "text/x-python",
   "name": "python",
   "nbconvert_exporter": "python",
   "pygments_lexer": "ipython3",
   "version": "3.8.5"
  }
 },
 "nbformat": 4,
 "nbformat_minor": 4
}
