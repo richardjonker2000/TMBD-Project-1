{
 "cells": [
  {
   "cell_type": "code",
   "execution_count": 57,
   "metadata": {},
   "outputs": [],
   "source": [
    "def hashString(string):\n",
    "    if not isinstance(string, str):\n",
    "        string = str(string)\n",
    "    \n",
    "    hashcode=hashlib.md5(string.encode('utf-8')).hexdigest()\n",
    "    bin_code = bin(int(hashcode, 16))\n",
    "    \n",
    "    return bin_code[2:]"
   ]
  },
  {
   "cell_type": "code",
   "execution_count": 58,
   "metadata": {},
   "outputs": [],
   "source": [
    "import hashlib, math\n",
    "import statistics\n",
    "\n",
    "bucket_bits = 16"
   ]
  },
  {
   "cell_type": "code",
   "execution_count": 59,
   "metadata": {},
   "outputs": [
    {
     "name": "stdout",
     "output_type": "stream",
     "text": [
      "36\n"
     ]
    }
   ],
   "source": [
    "stream = [2,4,4,0,2,4,1,4,5,1,0,3,5,3,5,2,1,0,14,2,0,2,4,9,23,2,4,5,6,2,0,4,0,2,1,7]\n",
    "print(len(stream))"
   ]
  },
  {
   "cell_type": "code",
   "execution_count": 60,
   "metadata": {},
   "outputs": [],
   "source": [
    "regs = list(range(int(math.pow(2, bucket_bits))))\n",
    "registers = {x: None for x in regs}\n",
    "\n",
    "#print(registers)"
   ]
  },
  {
   "cell_type": "code",
   "execution_count": 61,
   "metadata": {},
   "outputs": [],
   "source": [
    "for data in stream:\n",
    "    bin_code = hashString(data)\n",
    "    bucket = int(bin_code[:bucket_bits], 2)\n",
    "    value = bin_code[bucket_bits:]\n",
    "    leading_zeros = (len(value) - len(value.lstrip('0'))) + 1\n",
    "    \n",
    "    #print(f\"Bucket  ==>  {bucket}  \\nBinary value  ==>  {value}  \\nZeros  ==>  {leading_zeros}\")\n",
    "    \n",
    "    if registers.get(bucket) is None or registers.get(bucket) < leading_zeros:\n",
    "        #print(f\"Changing value from {registers.get(bucket)} to {leading_zeros}\")\n",
    "        registers[bucket] = leading_zeros\n",
    "        \n",
    "    #print(\"\\n\\n\")"
   ]
  },
  {
   "cell_type": "code",
   "execution_count": 64,
   "metadata": {},
   "outputs": [],
   "source": [
    "reg_values = list(registers.values())\n",
    "reg_values = [x for x in reg_values if x is not None]\n",
    "\n",
    "results = 2**statistics.harmonic_mean(reg_values)"
   ]
  },
  {
   "cell_type": "code",
   "execution_count": 65,
   "metadata": {},
   "outputs": [
    {
     "data": {
      "text/plain": [
       "3.0943355036532028"
      ]
     },
     "execution_count": 65,
     "metadata": {},
     "output_type": "execute_result"
    }
   ],
   "source": [
    "results"
   ]
  },
  {
   "cell_type": "code",
   "execution_count": null,
   "metadata": {},
   "outputs": [],
   "source": []
  }
 ],
 "metadata": {
  "kernelspec": {
   "display_name": "Python 3",
   "language": "python",
   "name": "python3"
  },
  "language_info": {
   "codemirror_mode": {
    "name": "ipython",
    "version": 3
   },
   "file_extension": ".py",
   "mimetype": "text/x-python",
   "name": "python",
   "nbconvert_exporter": "python",
   "pygments_lexer": "ipython3",
   "version": "3.8.5"
  }
 },
 "nbformat": 4,
 "nbformat_minor": 4
}
