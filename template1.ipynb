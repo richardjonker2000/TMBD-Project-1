{
 "cells": [
  {
   "cell_type": "code",
   "execution_count": 2,
   "metadata": {},
   "outputs": [
    {
     "name": "stdout",
     "output_type": "stream",
     "text": [
      "Results: {}\n"
     ]
    }
   ],
   "source": [
    "import numpy as np\n",
    "import .... ### add other needed packages\n",
    "\n",
    "## Your test stream\n",
    "stream = [...]\n",
    "\n",
    "## Implement the algorithm in here\n",
    "class BaseAlg:\n",
    "    stream = []\n",
    "    results = {}\n",
    "    x = 0\n",
    "    ## initilise the algorithm variables\n",
    "    ...\n",
    "\n",
    "    def alg(self):\n",
    "        ... ## write here the steram algorithm\n",
    "    \n",
    "    def verify(self):\n",
    "        ... ## write an exact algorithm (using all the stream) for comparison\n",
    "\n",
    "## Do not change\n",
    "class StreamAlg(BaseAlg):\n",
    "    def __init__(self, stream):\n",
    "        self.stream = stream\n",
    "        self.exec()\n",
    "        self.verify()\n",
    "\n",
    "    def exec(self):\n",
    "        for v in self.stream:\n",
    "            self.x = v\n",
    "            self.alg()\n",
    "        print('Results:',self.results) \n",
    "        \n",
    "SA = StreamAlg(stream)"
   ]
  }
 ],
 "metadata": {
  "interpreter": {
   "hash": "31f2aee4e71d21fbe5cf8b01ff0e069b9275f58929596ceb00d14d90e3e16cd6"
  },
  "kernelspec": {
   "display_name": "Python 3.8.2 64-bit",
   "name": "python3"
  },
  "language_info": {
   "name": "python",
   "version": "3.8.2"
  },
  "orig_nbformat": 4
 },
 "nbformat": 4,
 "nbformat_minor": 2
}