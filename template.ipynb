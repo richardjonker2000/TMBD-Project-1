{
 "cells": [
  {
   "cell_type": "code",
   "execution_count": 54,
   "metadata": {
    "collapsed": true
   },
   "outputs": [],
   "source": [
    "import numpy as np\n",
    "import hashlib\n",
    "import math\n",
    "import statistics"
   ]
  },
  {
   "cell_type": "code",
   "execution_count": 113,
   "outputs": [],
   "source": [
    "## Your test stream\n",
    "#stream = [\"Kai\",\"Luca\",\"Hunter\",\"Quinn\",\"Atlas\",\"Elliot\",\"Parker\",\"Avery\",\"River\",\"Skylar\",\"Hayden\",\"Remi\",\"Logan\",\n",
    "#          \"Riley\",\"Reese\",\"Jude\",\"Jalen\",\"Asa\",\"Rowan\",\"Evan\"]\n",
    "stream = [2,4,4,0,2,4,1,4,5,1,0,3,5,3,5,2,1,0,14,2,0,2,4,9,23,2,4,5,6,2,0,4,0,2,1,7]\n"
   ],
   "metadata": {
    "collapsed": false,
    "pycharm": {
     "name": "#%%\n"
    }
   }
  },
  {
   "cell_type": "code",
   "execution_count": 134,
   "outputs": [],
   "source": [
    "## Implement the algorithm in here\n",
    "\n",
    "error_rate = 0.05\n",
    "class BaseAlg:\n",
    "    stream = []\n",
    "    results = {}\n",
    "    x = 0\n",
    "\n",
    "    m = 0 #number of registers\n",
    "    k = 0\n",
    "    registers = {}\n",
    "\n",
    "    ## initilise the algorithm variables\n",
    "    #...\n",
    "\n",
    "    def hashString(self, name):\n",
    "        if not isinstance(name, str):\n",
    "            name = str(name)\n",
    "        h = hashlib.sha256()\n",
    "        h.update(name.encode()) #check if we need seed\n",
    "        res = ''.join(format(ord(i), 'b') for i in h.hexdigest())\n",
    "        return(res)\n",
    "\n",
    "    def initialise_registers(self):\n",
    "        self.m = (1.04/error_rate) ** 2\n",
    "        self.k = math.ceil(math.log(self.m, 2))\n",
    "        self.m = 2**self.k\n",
    "\n",
    "\n",
    "    def alg(self):\n",
    "        self.initialise_registers()\n",
    "\n",
    "        hash = self.hashString(self.x)\n",
    "        key = hash[:self.k]\n",
    "        value = len(hash[self.k:hash.find(\"1\", self.k)]) + 1\n",
    "        if key in self.registers:\n",
    "            if self.registers[key]<value:\n",
    "                self.registers[key] = value\n",
    "        else:\n",
    "            self.registers[key] = value\n",
    "        self.results = statistics.harmonic_mean(list(self.registers.values()))\n",
    "\n",
    "    def verify(self):\n",
    "        ## write an exact algorithm (using all the stream) for comparison\n",
    "        L = sorted(list(set(self.stream)))\n",
    "        print(f'Unique elements are {len(L)}: {L}')"
   ],
   "metadata": {
    "collapsed": false,
    "pycharm": {
     "name": "#%%\n"
    }
   }
  },
  {
   "cell_type": "code",
   "execution_count": 135,
   "outputs": [
    {
     "name": "stdout",
     "output_type": "stream",
     "text": [
      "Results: 2.1818181818181817\n",
      "Unique elements are 11: [0, 1, 2, 3, 4, 5, 6, 7, 9, 14, 23]\n"
     ]
    }
   ],
   "source": [
    "\n",
    "## Do not change\n",
    "class StreamAlg(BaseAlg):\n",
    "    def __init__(self, stream):\n",
    "        self.stream = stream\n",
    "        self.exec()\n",
    "        self.verify()\n",
    "\n",
    "    def exec(self):\n",
    "        for v in self.stream:\n",
    "            self.x = v\n",
    "            self.alg()\n",
    "        print('Results:',self.results)\n",
    "\n",
    "SA = StreamAlg(stream)"
   ],
   "metadata": {
    "collapsed": false,
    "pycharm": {
     "name": "#%%\n"
    }
   }
  }
 ],
 "metadata": {
  "kernelspec": {
   "display_name": "Python 3",
   "language": "python",
   "name": "python3"
  },
  "language_info": {
   "codemirror_mode": {
    "name": "ipython",
    "version": 2
   },
   "file_extension": ".py",
   "mimetype": "text/x-python",
   "name": "python",
   "nbconvert_exporter": "python",
   "pygments_lexer": "ipython2",
   "version": "2.7.6"
  }
 },
 "nbformat": 4,
 "nbformat_minor": 0
}