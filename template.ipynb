{
 "cells": [
  {
   "cell_type": "code",
   "execution_count": 132,
   "metadata": {
    "tags": []
   },
   "outputs": [],
   "source": [
    "#notes im not sure we should only use redis or implement our own solution\n",
    "import numpy as np\n",
    "import hashlib\n",
    "import math\n",
    "import statistics\n",
    "import random"
   ]
  },
  {
   "cell_type": "code",
   "execution_count": 221,
   "metadata": {
    "collapsed": false,
    "jupyter": {
     "outputs_hidden": false
    },
    "pycharm": {
     "name": "#%%\n"
    }
   },
   "outputs": [],
   "source": [
    "## Your test stream\n",
    "#stream = [\"Kai\",\"Luca\",\"Hunter\",\"Quinn\",\"Atlas\",\"Elliot\",\"Parker\",\"Avery\",\"River\",\"Skylar\",\"Hayden\",\"Remi\",\"Logan\",\n",
    "#          \"Riley\",\"Reese\",\"Jude\",\"Jalen\",\"Asa\",\"Rowan\",\"Evan\"]\n",
    "stream = [2,4,4,0,2,4,1,4,5,1,0,3,5,3,5,2,1,0,14,2,0,2,4,9,23,2,4,5,6,2,0,4,0,2,1,7]\n",
    "#stream = []\n",
    "#for i in range(0,50):\n",
    "#    stream.append(random.randint(1,5000))\n"
   ]
  },
  {
   "cell_type": "code",
   "execution_count": 222,
   "metadata": {},
   "outputs": [
    {
     "data": {
      "text/plain": [
       "[0, 1, 2, 3, 4]"
      ]
     },
     "execution_count": 222,
     "metadata": {},
     "output_type": "execute_result"
    }
   ],
   "source": [
    "list(range(5))"
   ]
  },
  {
   "cell_type": "code",
   "execution_count": 233,
   "metadata": {},
   "outputs": [],
   "source": [
    "def hashString(string):\n",
    "    hashcode=hashlib.md5(string.encode('utf-8')).hexdigest()\n",
    "    bin_code = bin(int(hashcode, 16))[-24:].zfill(24)\n",
    "    \n",
    "    return bin_code\n",
    "\n",
    "class BaseAlg:\n",
    "    stream = []\n",
    "    results = {}\n",
    "    m_bits = 3\n",
    "    init = False\n",
    "\n",
    "    registers = {}\n",
    "\n",
    "    def initialise_registers(self):\n",
    "        if not self.init:\n",
    "            regs = list(range(int(math.pow(2,self.m_bits))))\n",
    "            {x: None for x in regs}\n",
    "            \n",
    "            self.init = True\n",
    "\n",
    "\n",
    "    def alg(self):\n",
    "        self.initialise_registers()\n",
    "        for i in stream:\n",
    "            if not isinstance(i, str):\n",
    "                i = str(i)\n",
    "            \n",
    "            bin_code = hashString(i)\n",
    "            bucket = int(bin_code[:3], 2)\n",
    "            value = bin_code[3:]\n",
    "        \n",
    "            leading_zeros = (len(value) - len(value.lstrip('0'))) + 1\n",
    "            \n",
    "            if self.registers.get(bucket) is None or self.registers.get(bucket) < leading_zeros:\n",
    "                self.registers[bucket] = leading_zeros\n",
    "            \n",
    "            #print(self.registers)\n",
    "            \n",
    "        self.results = 2**statistics.harmonic_mean(list(self.registers.values()))\n",
    "        \n",
    "\n",
    "    def verify(self):\n",
    "        #print(self.registers)\n",
    "        \n",
    "        ## write an exact algorithm (using all the stream) for comparison\n",
    "        L = sorted(list(set(self.stream)))\n",
    "        print(f'Unique elements are {len(L)}: {L}')"
   ]
  },
  {
   "cell_type": "code",
   "execution_count": 234,
   "metadata": {
    "collapsed": false,
    "jupyter": {
     "outputs_hidden": false
    },
    "pycharm": {
     "is_executing": true,
     "name": "#%%\n"
    }
   },
   "outputs": [
    {
     "name": "stdout",
     "output_type": "stream",
     "text": [
      "Results: 3.7557236426468257\n",
      "Unique elements are 11: [0, 1, 2, 3, 4, 5, 6, 7, 9, 14, 23]\n"
     ]
    }
   ],
   "source": [
    "class StreamAlg(BaseAlg):\n",
    "    def __init__(self, stream):\n",
    "        self.stream = stream\n",
    "        self.exec()\n",
    "        self.verify()\n",
    "\n",
    "    def exec(self):\n",
    "        for v in self.stream:\n",
    "            self.x = v\n",
    "            self.alg()\n",
    "        print('Results:',self.results)\n",
    "\n",
    "SA = StreamAlg(stream)"
   ]
  },
  {
   "cell_type": "code",
   "execution_count": 232,
   "metadata": {},
   "outputs": [
    {
     "data": {
      "text/plain": [
       "8"
      ]
     },
     "execution_count": 232,
     "metadata": {},
     "output_type": "execute_result"
    }
   ],
   "source": [
    "int(math.pow(2,3))"
   ]
  },
  {
   "cell_type": "code",
   "execution_count": null,
   "metadata": {},
   "outputs": [],
   "source": []
  },
  {
   "cell_type": "code",
   "execution_count": null,
   "metadata": {},
   "outputs": [],
   "source": []
  },
  {
   "cell_type": "code",
   "execution_count": null,
   "metadata": {},
   "outputs": [],
   "source": []
  },
  {
   "cell_type": "code",
   "execution_count": null,
   "metadata": {},
   "outputs": [],
   "source": []
  },
  {
   "cell_type": "code",
   "execution_count": null,
   "metadata": {},
   "outputs": [],
   "source": []
  },
  {
   "cell_type": "code",
   "execution_count": null,
   "metadata": {},
   "outputs": [],
   "source": []
  },
  {
   "cell_type": "code",
   "execution_count": null,
   "metadata": {},
   "outputs": [],
   "source": [
    "for i in range(100):\n",
    "\n",
    "    h = hashlib.sha1()\n",
    "    h.update(str(i).encode())\n",
    "\n",
    "    end_length = len(h.hexdigest()) * 4\n",
    "    hex_as_int = int(h.hexdigest(), 16)\n",
    "    hex_as_binary = bin(hex_as_int)\n",
    "    padded_binary = hex_as_binary[2:].zfill(end_length)\n",
    "\n",
    "\n",
    "    #print(len(padded_binary))\n",
    "    #print(padded_binary)"
   ]
  },
  {
   "cell_type": "code",
   "execution_count": 12,
   "metadata": {
    "collapsed": false,
    "jupyter": {
     "outputs_hidden": false
    },
    "pycharm": {
     "name": "#%%\n"
    }
   },
   "outputs": [],
   "source": []
  },
  {
   "cell_type": "code",
   "execution_count": 50,
   "metadata": {},
   "outputs": [],
   "source": [
    "import hashlib\n",
    "\n",
    "s=\"cat\"\n"
   ]
  },
  {
   "cell_type": "code",
   "execution_count": 64,
   "metadata": {},
   "outputs": [
    {
     "data": {
      "text/plain": [
       "'110100000111011111110010010001001101111011111000101001110000111'"
      ]
     },
     "execution_count": 64,
     "metadata": {},
     "output_type": "execute_result"
    }
   ],
   "source": [
    "bin_code.rstrip('0')"
   ]
  },
  {
   "cell_type": "code",
   "execution_count": 61,
   "metadata": {},
   "outputs": [
    {
     "data": {
      "text/plain": [
       "61"
      ]
     },
     "execution_count": 61,
     "metadata": {},
     "output_type": "execute_result"
    }
   ],
   "source": [
    "len(bin_code[3:])"
   ]
  },
  {
   "cell_type": "code",
   "execution_count": 55,
   "metadata": {},
   "outputs": [
    {
     "data": {
      "text/plain": [
       "6"
      ]
     },
     "execution_count": 55,
     "metadata": {},
     "output_type": "execute_result"
    }
   ],
   "source": [
    "int(bin_code[:3], 2)"
   ]
  },
  {
   "cell_type": "code",
   "execution_count": 8,
   "metadata": {
    "collapsed": false,
    "jupyter": {
     "outputs_hidden": false
    },
    "pycharm": {
     "name": "#%%\n"
    }
   },
   "outputs": [],
   "source": [
    "## Implement the algorithm in here\n",
    "## Richard\n",
    "error_rate = 0.01\n",
    "class BaseAlg:\n",
    "    stream = []\n",
    "    results = {}\n",
    "    x = 0\n",
    "    init = False\n",
    "\n",
    "    m = 0 #number of registers\n",
    "    k = 0\n",
    "    registers = {}\n",
    "\n",
    "    ## initilise the algorithm variables\n",
    "    #...\n",
    "\n",
    "    def hashString(self, name):\n",
    "        if not isinstance(name, str):\n",
    "            name = str(name)\n",
    "        h = hashlib.sha1()\n",
    "        h.update(name.encode()) #check if we need seed\n",
    "        #res = ''.join(format(ord(i), 'b') for i in h.hexdigest())\n",
    "\n",
    "        # this was added as thre previous implementation did not account for leading 0s\n",
    "        end_length = len(h.hexdigest()) * 4\n",
    "        hex_as_int = int(h.hexdigest(), 16)\n",
    "        hex_as_binary = bin(hex_as_int)\n",
    "        padded_binary = hex_as_binary[2:].zfill(end_length)\n",
    "        return(padded_binary)\n",
    "\n",
    "    def initialise_registers(self):\n",
    "        if not self.init:\n",
    "            self.m = (1.04/error_rate) ** 2\n",
    "            self.k = math.ceil(math.log(self.m, 2))\n",
    "            self.m = 2**self.k\n",
    "            #todo init registers\n",
    "            # for i in range\n",
    "            # self.registers\n",
    "\n",
    "\n",
    "    def alg(self):\n",
    "        self.initialise_registers()\n",
    "        hash = self.hashString(self.x)\n",
    "        key = hash[:self.k]\n",
    "        value = len(hash[self.k:hash.find(\"1\", self.k)])+1\n",
    "        #print(value)\n",
    "        if key in self.registers:\n",
    "            if self.registers[key]<value:\n",
    "                self.registers[key] = value\n",
    "        else:\n",
    "            self.registers[key] = value\n",
    "        #print(self.registers)\n",
    "        self.results = 2**statistics.harmonic_mean(list(self.registers.values()))\n",
    "\n",
    "    def verify(self):\n",
    "        ## write an exact algorithm (using all the stream) for comparison\n",
    "        L = sorted(list(set(self.stream)))\n",
    "        print(f'Unique elements are {len(L)}: {L}')"
   ]
  },
  {
   "cell_type": "code",
   "execution_count": null,
   "metadata": {},
   "outputs": [],
   "source": []
  }
 ],
 "metadata": {
  "kernelspec": {
   "display_name": "Python 3",
   "language": "python",
   "name": "python3"
  },
  "language_info": {
   "codemirror_mode": {
    "name": "ipython",
    "version": 3
   },
   "file_extension": ".py",
   "mimetype": "text/x-python",
   "name": "python",
   "nbconvert_exporter": "python",
   "pygments_lexer": "ipython3",
   "version": "3.8.5"
  }
 },
 "nbformat": 4,
 "nbformat_minor": 4
}