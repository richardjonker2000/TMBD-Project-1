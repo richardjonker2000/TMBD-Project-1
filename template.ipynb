{
 "cells": [
  {
   "cell_type": "code",
   "execution_count": 1,
   "metadata": {
    "collapsed": true
   },
   "outputs": [],
   "source": [
    "#notes im not sure we should only use redis or implement our own solution\n",
    "import numpy as np\n",
    "import hashlib\n",
    "import math\n",
    "import statistics\n",
    "import random"
   ]
  },
  {
   "cell_type": "code",
   "execution_count": 6,
   "outputs": [],
   "source": [
    "## Your test stream\n",
    "#stream = [\"Kai\",\"Luca\",\"Hunter\",\"Quinn\",\"Atlas\",\"Elliot\",\"Parker\",\"Avery\",\"River\",\"Skylar\",\"Hayden\",\"Remi\",\"Logan\",\n",
    "#          \"Riley\",\"Reese\",\"Jude\",\"Jalen\",\"Asa\",\"Rowan\",\"Evan\"]\n",
    "#stream = [2,4,4,0,2,4,1,4,5,1,0,3,5,3,5,2,1,0,14,2,0,2,4,9,23,2,4,5,6,2,0,4,0,2,1,7]\n",
    "stream = []\n",
    "for i in range(0,50000):\n",
    "    stream.append(random.randint(1,5000))\n"
   ],
   "metadata": {
    "collapsed": false,
    "pycharm": {
     "name": "#%%\n"
    }
   }
  },
  {
   "cell_type": "code",
   "execution_count": 7,
   "outputs": [],
   "source": [
    "## Implement the algorithm in here\n",
    "\n",
    "error_rate = 0.01\n",
    "class BaseAlg:\n",
    "    stream = []\n",
    "    results = {}\n",
    "    x = 0\n",
    "    init = False\n",
    "\n",
    "    m = 0 #number of registers\n",
    "    k = 0\n",
    "    registers = {}\n",
    "\n",
    "    ## initilise the algorithm variables\n",
    "    #...\n",
    "\n",
    "    def hashString(self, name):\n",
    "        if not isinstance(name, str):\n",
    "            name = str(name)\n",
    "        h = hashlib.sha1()\n",
    "        h.update(name.encode()) #check if we need seed\n",
    "        #res = ''.join(format(ord(i), 'b') for i in h.hexdigest())\n",
    "\n",
    "        # this was added as thre previous implementation did not account for leading 0s\n",
    "        end_length = len(h.hexdigest()) * 4\n",
    "        hex_as_int = int(h.hexdigest(), 16)\n",
    "        hex_as_binary = bin(hex_as_int)\n",
    "        padded_binary = hex_as_binary[2:].zfill(end_length)\n",
    "        return(padded_binary)\n",
    "\n",
    "    def initialise_registers(self):\n",
    "        if not self.init:\n",
    "            self.m = (1.04/error_rate) ** 2\n",
    "            self.k = math.ceil(math.log(self.m, 2))\n",
    "            self.m = 2**self.k\n",
    "            #todo init registers\n",
    "            # for i in range\n",
    "            # self.registers\n",
    "\n",
    "\n",
    "    def alg(self):\n",
    "        self.initialise_registers()\n",
    "        hash = self.hashString(self.x)\n",
    "        key = hash[:self.k]\n",
    "        value = len(hash[self.k:hash.find(\"1\", self.k)])+1\n",
    "        #print(value)\n",
    "        if key in self.registers:\n",
    "            if self.registers[key]<value:\n",
    "                self.registers[key] = value\n",
    "        else:\n",
    "            self.registers[key] = value\n",
    "        #print(self.registers)\n",
    "        self.results = 2**statistics.harmonic_mean(list(self.registers.values()))\n",
    "\n",
    "    def verify(self):\n",
    "        ## write an exact algorithm (using all the stream) for comparison\n",
    "        L = sorted(list(set(self.stream)))\n",
    "        print(f'Unique elements are {len(L)}: {L}')"
   ],
   "metadata": {
    "collapsed": false,
    "pycharm": {
     "name": "#%%\n"
    }
   }
  },
  {
   "cell_type": "code",
   "execution_count": null,
   "outputs": [],
   "source": [
    "\n",
    "## Do not change\n",
    "class StreamAlg(BaseAlg):\n",
    "    def __init__(self, stream):\n",
    "        self.stream = stream\n",
    "        self.exec()\n",
    "        self.verify()\n",
    "\n",
    "    def exec(self):\n",
    "        for v in self.stream:\n",
    "            self.x = v\n",
    "            self.alg()\n",
    "        print('Results:',self.results)\n",
    "\n",
    "SA = StreamAlg(stream)"
   ],
   "metadata": {
    "collapsed": false,
    "pycharm": {
     "name": "#%%\n",
     "is_executing": true
    }
   }
  },
  {
   "cell_type": "code",
   "execution_count": 5,
   "outputs": [
    {
     "name": "stdout",
     "output_type": "stream",
     "text": [
      "160\n",
      "160\n",
      "160\n",
      "160\n",
      "160\n",
      "160\n",
      "160\n",
      "160\n",
      "160\n",
      "160\n",
      "160\n",
      "160\n",
      "160\n",
      "160\n",
      "160\n",
      "160\n",
      "160\n",
      "160\n",
      "160\n",
      "160\n",
      "160\n",
      "160\n",
      "160\n",
      "160\n",
      "160\n",
      "160\n",
      "160\n",
      "160\n",
      "160\n",
      "160\n",
      "160\n",
      "160\n",
      "160\n",
      "160\n",
      "160\n",
      "160\n",
      "160\n",
      "160\n",
      "160\n",
      "160\n",
      "160\n",
      "160\n",
      "160\n",
      "160\n",
      "160\n",
      "160\n",
      "160\n",
      "160\n",
      "160\n",
      "160\n",
      "160\n",
      "160\n",
      "160\n",
      "160\n",
      "160\n",
      "160\n",
      "160\n",
      "160\n",
      "160\n",
      "160\n",
      "160\n",
      "160\n",
      "160\n",
      "160\n",
      "160\n",
      "160\n",
      "160\n",
      "160\n",
      "160\n",
      "160\n",
      "160\n",
      "160\n",
      "160\n",
      "160\n",
      "160\n",
      "160\n",
      "160\n",
      "160\n",
      "160\n",
      "160\n",
      "160\n",
      "160\n",
      "160\n",
      "160\n",
      "160\n",
      "160\n",
      "160\n",
      "160\n",
      "160\n",
      "160\n",
      "160\n",
      "160\n",
      "160\n",
      "160\n",
      "160\n",
      "160\n",
      "160\n",
      "160\n",
      "160\n",
      "160\n"
     ]
    }
   ],
   "source": [
    "for i in range(100):\n",
    "\n",
    "    h = hashlib.sha1()\n",
    "    h.update(str(i).encode())\n",
    "\n",
    "    end_length = len(h.hexdigest()) * 4\n",
    "    hex_as_int = int(h.hexdigest(), 16)\n",
    "    hex_as_binary = bin(hex_as_int)\n",
    "    padded_binary = hex_as_binary[2:].zfill(end_length)\n",
    "\n",
    "\n",
    "    print(len(padded_binary))\n",
    "    #print(padded_binary)"
   ],
   "metadata": {
    "collapsed": false,
    "pycharm": {
     "name": "#%%\n"
    }
   }
  },
  {
   "cell_type": "code",
   "execution_count": null,
   "outputs": [],
   "source": [],
   "metadata": {
    "collapsed": false,
    "pycharm": {
     "name": "#%%\n"
    }
   }
  }
 ],
 "metadata": {
  "kernelspec": {
   "display_name": "Python 3",
   "language": "python",
   "name": "python3"
  },
  "language_info": {
   "codemirror_mode": {
    "name": "ipython",
    "version": 2
   },
   "file_extension": ".py",
   "mimetype": "text/x-python",
   "name": "python",
   "nbconvert_exporter": "python",
   "pygments_lexer": "ipython2",
   "version": "2.7.6"
  }
 },
 "nbformat": 4,
 "nbformat_minor": 0
}