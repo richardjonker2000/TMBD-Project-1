{
 "cells": [
  {
   "cell_type": "markdown",
   "metadata": {},
   "source": [
    "# The reference\n",
    "\n",
    "http://algo.inria.fr/flajolet/Publications/FlFuGaMe07.pdf\n",
    "\n",
    "(page 140 or 14)\n",
    "- It has range corrections\n",
    "- Bias corrections"
   ]
  },
  {
   "cell_type": "code",
   "execution_count": 25,
   "metadata": {},
   "outputs": [],
   "source": [
    "import hashlib\n",
    "import math\n",
    "import numpy as np\n",
    "import random\n",
    "import statistics as st"
   ]
  },
  {
   "cell_type": "code",
   "execution_count": 26,
   "metadata": {},
   "outputs": [],
   "source": [
    "# Lets follow the article here\n",
    "\n",
    "# error rate allows us to determine the number of registers (m) to be used\n",
    "error_rate = 0.01\n",
    "class BaseAlg:\n",
    "    \n",
    "                \n",
    "    #def __init__(self):\n",
    "        #self.k = 1\n",
    "        #self.m = 2**self.k\n",
    "\n",
    "    # First we need to define the hash function, converting a string with any length \n",
    "    # to a string of binary characters (0, 1) with fixed length (24)\n",
    "    def hashString(self, value):\n",
    "        if not isinstance(value, str):\n",
    "            value = str(value)\n",
    "        \n",
    "        hashcode=hashlib.sha1(value.encode('utf-8')).hexdigest()\n",
    "        bin_code = bin(int(hashcode, 16))[-24:].zfill(24)\n",
    "    \n",
    "        return bin_code\n",
    "\n",
    "    # Hereregisters are initialized as 0, with m being determined from the desired error rate\n",
    "    def initialise_registers(self):\n",
    "        #self.k = 4\n",
    "        if error_rate is not None:\n",
    "            self.m = (1.04/error_rate)**2\n",
    "            self.k = math.ceil(math.log(self.m, 2))\n",
    "        self.m = 2**self.k\n",
    "        self.hll_struct = {r: 0 for r in range(self.m)}\n",
    "    \n",
    "\n",
    "    # Now for the algorithm itself\n",
    "    def alg(self, stream):\n",
    "        self.initialise_registers()\n",
    "        for d in stream:\n",
    "            # Map the object d from a data stream using the defined hash function\n",
    "            dh = self.hashString(d)\n",
    "            # Selecting the first k digits of dh to determine the register (converting the value to int)\n",
    "            r = int(dh[:self.k], 2)\n",
    "            # The remaining digits are where we count the leading 0s\n",
    "            q = dh[self.k:]\n",
    "            \n",
    "            # If the hashed string is 000...0, we register its length+1, \n",
    "            # as if the first 1 was just outside the string\n",
    "            if q.find(\"1\") == -1:\n",
    "                count = len(q)+1\n",
    "            # Otherwise we find the position of the 1 in the string and just add 1 to it.\n",
    "            # Equivalent to counting from 1 instead of from 0\n",
    "            else:\n",
    "                count = q.find(\"1\")+1\n",
    "                \n",
    "            # Now, if the count is higher than what is already in the designated register\n",
    "            # we keep the new count, otherwise we won't change it\n",
    "            if (count > self.hll_struct[r]):\n",
    "                self.hll_struct[r] = count\n",
    "                \n",
    "        # This is where the fun part happens\n",
    "        # \n",
    "        #v = [x for x in self.hll_struct.values() if x is not None]\n",
    "        \n",
    "        # We take all registered counts and use them to make a list of powers of 2\n",
    "        # Imagine the register has 0, that means there were no leading zeros in a string of length L\n",
    "        # Which means that there are 2^(L-1) possible values for it\n",
    "        # Or of the 2^L possible values for said string, half of them don't start with a zero\n",
    "        # This 2^x gives us the inverse of that probability\n",
    "        v = [2**x for x in self.hll_struct.values()]\n",
    "        #print(v)\n",
    "        # This was here just for sanity check\n",
    "        # print(\"%d/%d registers holding some count\" % (len(v), self.m))\n",
    "        \n",
    "        # According to the original article, we now take the harmonic mean of the entire list of powers of 2\n",
    "        z = st.harmonic_mean(v)\n",
    "        \n",
    "        # Alfa is a correction parameter also introduced in the article    \n",
    "        alfa_dict = {16: 0.673, 32: 0.697, 64: 0.709, 128: 0.7213/(1+(1.079/self.m))}\n",
    "        alfa = alfa_dict[128]\n",
    "\n",
    "        # So the raw estimation is alfa*m*z. I know the article says m^2 instead of m.\n",
    "        # But in the article z is defined as the harmonic mean/m\n",
    "        # Which means that this is equivalent\n",
    "        raw = alfa*self.m*z\n",
    "        \n",
    "        # These are the range corrections also introduced in the article\n",
    "        # The algorithm works really well for that intermediate range. \n",
    "        # Below or above that it needs some help\n",
    "        if raw <= 2.5*self.m:\n",
    "            print(\"Small range correction\")\n",
    "            u = len([x for x in self.hll_struct.values() if x==0])\n",
    "            if u != 0:\n",
    "                return self.m*math.log(self.m/u)\n",
    "            else:\n",
    "                return raw\n",
    "        elif raw <= (1/30)*2**32:\n",
    "            print(\"Intermediate range correction\")\n",
    "            return raw\n",
    "        else:\n",
    "            print(\"Large range correction\")\n",
    "            return -(2**32)*math.log(1-raw/(2**32))\n",
    "                \n",
    "        return 0\n",
    "      \n",
    "\n",
    "    def verify(self, stream):\n",
    "        print(\"Estimated distinct values: %f\" % self.alg(stream))\n",
    "        print(\"Actual distinct values: %d\" % len(set(stream)))"
   ]
  },
  {
   "cell_type": "code",
   "execution_count": 27,
   "metadata": {},
   "outputs": [],
   "source": [
    "ip_stream = []\n",
    "for i in range(50000):\n",
    "    ip = \".\".join(map(str, (random.randint(0, 255) \n",
    "                        for _ in range(4))))\n",
    "    ip_stream.append(ip)\n",
    "\n",
    "#test_stream = random.sample(range(0, 100000), 50000)"
   ]
  },
  {
   "cell_type": "code",
   "execution_count": 28,
   "metadata": {},
   "outputs": [
    {
     "data": {
      "text/plain": [
       "50000"
      ]
     },
     "execution_count": 28,
     "metadata": {},
     "output_type": "execute_result"
    }
   ],
   "source": [
    "len(set(ip_stream))"
   ]
  },
  {
   "cell_type": "code",
   "execution_count": 29,
   "metadata": {},
   "outputs": [
    {
     "name": "stdout",
     "output_type": "stream",
     "text": [
      "16384\n",
      "16384\n",
      "16384/16384 registers holding some count\n",
      "Intermediate range correction\n",
      "Estimated distinct values: 50457.835143\n",
      "Actual distinct values: 50000\n"
     ]
    }
   ],
   "source": [
    "hll_alg = BaseAlg()\n",
    "hll_alg.verify(ip_stream)"
   ]
  },
  {
   "cell_type": "code",
   "execution_count": 30,
   "metadata": {
    "jupyter": {
     "outputs_hidden": false
    },
    "pycharm": {
     "name": "#%%\n"
    }
   },
   "outputs": [
    {
     "data": {
      "text/plain": [
       "['178.95.193.138', '45.124.145.28', '187.188.84.110']"
      ]
     },
     "execution_count": 30,
     "metadata": {},
     "output_type": "execute_result"
    }
   ],
   "source": [
    "ip_stream[:3]"
   ]
  },
  {
   "cell_type": "code",
   "execution_count": null,
   "metadata": {},
   "outputs": [],
   "source": []
  },
  {
   "cell_type": "code",
   "execution_count": 31,
   "metadata": {},
   "outputs": [],
   "source": [
    "import random, socket, struct\n",
    "ip_stream = []\n",
    "\n",
    "total_num = 1000\n",
    "ip_stream = [(socket.inet_ntoa(struct.pack('>I', random.randint(1, 0xffffffff)))) for _ in range(10000)]"
   ]
  },
  {
   "cell_type": "code",
   "execution_count": null,
   "metadata": {},
   "outputs": [],
   "source": []
  }
 ],
 "metadata": {
  "interpreter": {
   "hash": "c11c31f54c6a1524bc46d512b04aae0b7af80f49ff982b19a79f63cf28c4a08a"
  },
  "kernelspec": {
   "display_name": "Python 3",
   "language": "python",
   "name": "python3"
  },
  "language_info": {
   "codemirror_mode": {
    "name": "ipython",
    "version": 3
   },
   "file_extension": ".py",
   "mimetype": "text/x-python",
   "name": "python",
   "nbconvert_exporter": "python",
   "pygments_lexer": "ipython3",
   "version": "3.8.5"
  }
 },
 "nbformat": 4,
 "nbformat_minor": 4
}
