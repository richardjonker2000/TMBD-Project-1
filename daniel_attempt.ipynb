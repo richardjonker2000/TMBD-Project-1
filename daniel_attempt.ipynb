{
 "cells": [
  {
   "cell_type": "markdown",
   "metadata": {},
   "source": [
    "# The reference\n",
    "\n",
    "http://algo.inria.fr/flajolet/Publications/FlFuGaMe07.pdf\n",
    "\n",
    "(page 140 or 14)\n",
    "- It has range corrections\n",
    "- Bias corrections"
   ]
  },
  {
   "cell_type": "code",
   "execution_count": 3,
   "metadata": {},
   "outputs": [],
   "source": [
    "import hashlib\n",
    "import math\n",
    "import numpy as np\n",
    "import random\n",
    "import statistics as st"
   ]
  },
  {
   "cell_type": "code",
   "execution_count": 4,
   "metadata": {},
   "outputs": [],
   "source": [
    "error_rate = 0.0001\n",
    "class BaseAlg:\n",
    "            \n",
    "    def __init__(self):\n",
    "        self.k = 1\n",
    "        self.m = 2**self.k\n",
    "\n",
    "        \n",
    "    def hashString(self, value):\n",
    "        if not isinstance(value, str):\n",
    "            value = str(value)\n",
    "        \n",
    "        hashcode=hashlib.sha1(value.encode('utf-8')).hexdigest()\n",
    "        bin_code = bin(int(hashcode, 16))[-24:].zfill(24)\n",
    "    \n",
    "        return bin_code\n",
    "\n",
    "    \n",
    "    def initialise_registers(self):\n",
    "        self.k = 4\n",
    "        if error_rate is not None:\n",
    "            self.m = (1.04/error_rate)**2\n",
    "            self.k = math.ceil(math.log(self.m, 2))\n",
    "        self.m = 2**self.k\n",
    "        self.hll_struct = {r: 0 for r in range(self.m)}\n",
    "    \n",
    "\n",
    "    def alg(self, stream):\n",
    "        self.initialise_registers()\n",
    "        for d in stream:\n",
    "            dh = self.hashString(d)\n",
    "            r = int(dh[:self.k], 2)\n",
    "            q = dh[self.k:]\n",
    "            \n",
    "            if q.find(\"1\") == -1:\n",
    "                count = 1\n",
    "            else:\n",
    "                count = q.find(\"1\")+1\n",
    "        \n",
    "            if (count > self.hll_struct[r])  :\n",
    "                self.hll_struct[r] = count\n",
    "        v = [x for x in self.hll_struct.values() if x is not None]\n",
    "        v = [2**x for x in self.hll_struct.values()]\n",
    "        #print(v)\n",
    "        print(\"%d/%d registers holding some count\" % (len(v), self.m))\n",
    "        \n",
    "        z = st.harmonic_mean(v)\n",
    "    \n",
    "        alfa_dict = {16: 0.673, 32: 0.697, 64: 0.709, 128: 0.7213/(1+(1.079/self.m))}\n",
    "        alfa = alfa_dict[128]\n",
    "\n",
    "        raw = alfa*self.m*z\n",
    "        \n",
    "        if raw <= 2.5*self.m:\n",
    "            print(\"Small range correction\")\n",
    "            u = len([x for x in self.hll_struct.values() if x==0])\n",
    "            if u != 0:\n",
    "                return self.m*math.log(self.m/u)\n",
    "            else:\n",
    "                return raw\n",
    "        elif raw <= (1/30)*2**32:\n",
    "            print(\"Intermediate range correction\")\n",
    "            return raw\n",
    "        else:\n",
    "            print(\"Large range correction\")\n",
    "            return -(2**32)*math.log(1-raw/(2**32))\n",
    "                \n",
    "        return 0\n",
    "      \n",
    "\n",
    "    def verify(self, stream):\n",
    "        print(\"Estimated distinct values: %f\" % self.alg(stream))\n",
    "        print(\"Actual distinct values: %d\" % len(set(stream)))"
   ]
  },
  {
   "cell_type": "code",
   "execution_count": 5,
   "metadata": {},
   "outputs": [],
   "source": [
    "ip_stream = []\n",
    "for i in range(50000):\n",
    "    ip = \".\".join(map(str, (random.randint(0, 255) \n",
    "                        for _ in range(4))))\n",
    "    ip_stream.append(ip)\n",
    "\n",
    "#test_stream = random.sample(range(0, 100000), 50000)"
   ]
  },
  {
   "cell_type": "code",
   "execution_count": 6,
   "metadata": {},
   "outputs": [
    {
     "data": {
      "text/plain": [
       "50000"
      ]
     },
     "execution_count": 6,
     "metadata": {},
     "output_type": "execute_result"
    }
   ],
   "source": [
    "len(set(ip_stream))"
   ]
  },
  {
   "cell_type": "code",
   "execution_count": 7,
   "metadata": {},
   "outputs": [
    {
     "name": "stdout",
     "output_type": "stream",
     "text": [
      "134217728/134217728 registers holding some count\n",
      "Small range correction\n",
      "Estimated distinct values: 49933.287238\n",
      "Actual distinct values: 50000\n"
     ]
    }
   ],
   "source": [
    "hll_alg = BaseAlg()\n",
    "hll_alg.verify(ip_stream)"
   ]
  },
  {
   "cell_type": "code",
   "execution_count": 9,
   "metadata": {
    "collapsed": false,
    "jupyter": {
     "outputs_hidden": false
    },
    "pycharm": {
     "name": "#%%\n"
    }
   },
   "outputs": [
    {
     "data": {
      "text/plain": [
       "['166.103.235.52', '104.255.224.140', '88.95.22.55']"
      ]
     },
     "execution_count": 9,
     "metadata": {},
     "output_type": "execute_result"
    }
   ],
   "source": [
    "ip_stream[:3]"
   ]
  },
  {
   "cell_type": "code",
   "execution_count": null,
   "metadata": {},
   "outputs": [],
   "source": []
  },
  {
   "cell_type": "code",
   "execution_count": 4,
   "metadata": {},
   "outputs": [
    {
     "data": {
      "text/plain": [
       "'7.108.237.29'"
      ]
     },
     "execution_count": 4,
     "metadata": {},
     "output_type": "execute_result"
    }
   ],
   "source": [
    "import random, socket, struct\n",
    "ip_stream = []\n",
    "\n",
    "total_num = 1000\n",
    "ip_stream = [(socket.inet_ntoa(struct.pack('>I', random.randint(1, 0xffffffff)))) for _ in range(10000)]"
   ]
  },
  {
   "cell_type": "code",
   "execution_count": null,
   "metadata": {},
   "outputs": [],
   "source": []
  }
 ],
 "metadata": {
  "interpreter": {
   "hash": "c11c31f54c6a1524bc46d512b04aae0b7af80f49ff982b19a79f63cf28c4a08a"
  },
  "kernelspec": {
   "display_name": "Python 3.8.8 64-bit ('cryptography': venv)",
   "name": "python3"
  },
  "language_info": {
   "codemirror_mode": {
    "name": "ipython",
    "version": 3
   },
   "file_extension": ".py",
   "mimetype": "text/x-python",
   "name": "python",
   "nbconvert_exporter": "python",
   "pygments_lexer": "ipython3",
   "version": "3.8.8"
  }
 },
 "nbformat": 4,
 "nbformat_minor": 4
}
