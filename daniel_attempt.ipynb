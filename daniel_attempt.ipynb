{
 "cells": [
  {
   "cell_type": "markdown",
   "metadata": {},
   "source": [
    "# The reference\n",
    "\n",
    "http://algo.inria.fr/flajolet/Publications/FlFuGaMe07.pdf\n",
    "\n",
    "(page 140 or 14)\n",
    "- It has range corrections\n",
    "- Bias corrections"
   ]
  },
  {
   "cell_type": "code",
   "execution_count": 1,
   "metadata": {},
   "outputs": [],
   "source": [
    "import hashlib\n",
    "import math\n",
    "import numpy as np\n",
    "import random\n",
    "import statistics as st"
   ]
  },
  {
   "cell_type": "code",
   "execution_count": 67,
   "metadata": {},
   "outputs": [],
   "source": [
    "error_rate = 0.01\n",
    "class BaseAlg:\n",
    "            \n",
    "    def __init__(self):\n",
    "        self.k = 1\n",
    "        self.m = 2**self.k\n",
    "\n",
    "        \n",
    "    def hashString(self, value):\n",
    "        if not isinstance(value, str):\n",
    "            value = str(value)\n",
    "        \n",
    "        hashcode=hashlib.sha1(value.encode('utf-8')).hexdigest()\n",
    "        bin_code = bin(int(hashcode, 16))[-24:].zfill(24)\n",
    "    \n",
    "        return bin_code\n",
    "\n",
    "    \n",
    "    def initialise_registers(self):\n",
    "        self.k = 4\n",
    "        if error_rate is not None:\n",
    "            self.m = (1.04/error_rate)**2\n",
    "            self.k = math.ceil(math.log(self.m, 2))\n",
    "        self.m = 2**self.k\n",
    "        self.hll_struct = {r: None for r in range(self.m)}\n",
    "    \n",
    "\n",
    "    def alg(self, stream):\n",
    "        self.initialise_registers()\n",
    "        for d in test_stream:\n",
    "            dh = self.hashString(d)\n",
    "            r = int(dh[:self.k], 2)\n",
    "            q = dh[self.k:]\n",
    "            \n",
    "            if q.find(\"1\") == -1:\n",
    "                count = 1\n",
    "            else:\n",
    "                count = q.find(\"1\")+1\n",
    "        \n",
    "            if (self.hll_struct[r] is None) or (count > self.hll_struct[r])  :\n",
    "                self.hll_struct[r] = count\n",
    "        #v = [x for x in self.hll_struct.values() if x is not None]\n",
    "        v = [2**x for x in self.hll_struct.values() if x is not None]\n",
    "        print(\"Cardinality lower threshold: %1.1f\" % (2.5*self.m))\n",
    "        print(\"%d/%d registers holding some count\" % (len(v), self.m))\n",
    "        \n",
    "        z = st.harmonic_mean(v)\n",
    "    \n",
    "        alfa_dict = {16: 0.673, 32: 0.697, 64: 0.709, 128: 0.7213/(1+(1.079/self.m))}\n",
    "        alfa = 0.7213/(1+(1.079/self.m))\n",
    "        #return alfa*(self.m**2)*z\n",
    "        return alfa*self.m*z\n",
    "        \n",
    "\n",
    "    def verify(self, stream):\n",
    "        print(\"Estimated distinct values: %f\" % self.alg(stream))\n",
    "        print(\"Actual distinct values: %d\" % len(set(stream)))"
   ]
  },
  {
   "cell_type": "code",
   "execution_count": 54,
   "metadata": {},
   "outputs": [],
   "source": [
    "# max_range = random.randint(0, 512)\n",
    "# stream_size = 1024\n",
    "# test_stream = [random.randint(0, max_range) for x in range(stream_size)]\n",
    "test_stream = random.sample(range(0, 100000), 50000)"
   ]
  },
  {
   "cell_type": "code",
   "execution_count": 55,
   "metadata": {},
   "outputs": [
    {
     "data": {
      "text/plain": [
       "50000"
      ]
     },
     "execution_count": 55,
     "metadata": {},
     "output_type": "execute_result"
    }
   ],
   "source": [
    "len(set(test_stream))"
   ]
  },
  {
   "cell_type": "code",
   "execution_count": 68,
   "metadata": {},
   "outputs": [
    {
     "name": "stdout",
     "output_type": "stream",
     "text": [
      "Cardinality lower threshold: 40960.0\n",
      "15626/16384 registers holding some count\n",
      "Estimated distinct values: 59942.821634\n",
      "Actual distinct values: 50000\n"
     ]
    }
   ],
   "source": [
    "hll_alg = BaseAlg()\n",
    "hll_alg.verify(test_stream)"
   ]
  }
 ],
 "metadata": {
  "kernelspec": {
   "display_name": "Python 3",
   "language": "python",
   "name": "python3"
  },
  "language_info": {
   "codemirror_mode": {
    "name": "ipython",
    "version": 3
   },
   "file_extension": ".py",
   "mimetype": "text/x-python",
   "name": "python",
   "nbconvert_exporter": "python",
   "pygments_lexer": "ipython3",
   "version": "3.8.5"
  }
 },
 "nbformat": 4,
 "nbformat_minor": 4
}
