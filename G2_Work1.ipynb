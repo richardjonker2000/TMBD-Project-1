{
 "cells": [
  {
   "cell_type": "markdown",
   "metadata": {},
   "source": [
    "# **Group 2 - Work 1**\n",
    "\n",
    "Each group should choose between HLL or Boom filters and produce an iPynb file with python code and markdown, which:\n",
    "\n",
    "- Briefly explains what the algorithm’s purpose is [15%];\n",
    "- Discuss a possible (real) application of the algorithm [25%];\n",
    "- Describe the packages/microservices you are going to use [15%];\n",
    "- Implement the code simulating this real application [45%]."
   ]
  },
  {
   "cell_type": "markdown",
   "metadata": {},
   "source": [
    "## **Students :**\n",
    "- Daniel Filipe Vilhena Nunes (101220)\n",
    "- Prosper Ablordeppey (106382)\n",
    "- Richard Adolph Aires Jonker (109560)\n",
    "- Roshan Poudel (109806)"
   ]
  },
  {
   "cell_type": "markdown",
   "metadata": {},
   "source": [
    "# Hyper Log Log Algorithm (HLL)"
   ]
  },
  {
   "cell_type": "markdown",
   "metadata": {},
   "source": [
    "## What is HLL?"
   ]
  },
  {
   "cell_type": "markdown",
   "metadata": {},
   "source": [
    "## How does HLL work?\n",
    "\n",
    "![HLL Algorithm](images/hll_original.png \"HyperLogLog Algorithm\")"
   ]
  },
  {
   "cell_type": "markdown",
   "metadata": {},
   "source": [
    "## Real world uses of HLL"
   ]
  },
  {
   "cell_type": "markdown",
   "metadata": {},
   "source": [
    "## Packages used"
   ]
  },
  {
   "cell_type": "markdown",
   "metadata": {},
   "source": [
    "## Implementation of HLL"
   ]
  },
  {
   "cell_type": "markdown",
   "metadata": {},
   "source": [
    "## Implementation of a Real World Application of HLL"
   ]
  },
  {
   "cell_type": "markdown",
   "metadata": {},
   "source": [
    "## References"
   ]
  },
  {
   "cell_type": "code",
   "execution_count": 9,
   "metadata": {},
   "outputs": [
    {
     "name": "stdout",
     "output_type": "stream",
     "text": [
      "Size of our stream : 50000\n",
      "Results: {'test': 'HEY'}\n"
     ]
    }
   ],
   "source": [
    "import numpy as np\n",
    "import random \n",
    "import math\n",
    "import hashlib\n",
    "import statistics as st\n",
    "\n",
    "## Your test stream\n",
    "stream = []\n",
    "for i in range(50000):\n",
    "    # Randomly generated IPv4 address\n",
    "    ip = \".\".join(map(str, (random.randint(0, 255) for _ in range(4))))\n",
    "    stream.append(ip)\n",
    "    \n",
    "print(f\"Size of our stream : {len(stream)}\")\n",
    "\n",
    "## Implement the algorithm in here\n",
    "class BaseAlg:\n",
    "    stream = []\n",
    "    results = {}\n",
    "    x = 0\n",
    "    ## initilise the algorithm variables\n",
    "    ...\n",
    "\n",
    "    def alg(self):\n",
    "        ## Steram algorithm\n",
    "        self.results[\"test\"] = \"HEY\"\n",
    "    \n",
    "    def verify(self):\n",
    "        ## Exact algorithm (using all the stream) for comparison\n",
    "        self.results[\"Exact\"] = \"5000\"\n",
    "\n",
    "## Do not change\n",
    "class StreamAlg(BaseAlg):\n",
    "    def __init__(self, stream):\n",
    "        self.stream = stream\n",
    "        self.exec()\n",
    "        self.verify()\n",
    "\n",
    "    def exec(self):\n",
    "        for v in self.stream:\n",
    "            self.x = v\n",
    "            self.alg()\n",
    "        print('Results:',self.results) \n",
    "        \n",
    "SA = StreamAlg(stream)"
   ]
  },
  {
   "cell_type": "code",
   "execution_count": null,
   "metadata": {},
   "outputs": [],
   "source": []
  },
  {
   "cell_type": "code",
   "execution_count": null,
   "metadata": {},
   "outputs": [],
   "source": []
  }
 ],
 "metadata": {
  "interpreter": {
   "hash": "31f2aee4e71d21fbe5cf8b01ff0e069b9275f58929596ceb00d14d90e3e16cd6"
  },
  "kernelspec": {
   "display_name": "Python 3",
   "language": "python",
   "name": "python3"
  },
  "language_info": {
   "codemirror_mode": {
    "name": "ipython",
    "version": 3
   },
   "file_extension": ".py",
   "mimetype": "text/x-python",
   "name": "python",
   "nbconvert_exporter": "python",
   "pygments_lexer": "ipython3",
   "version": "3.8.5"
  }
 },
 "nbformat": 4,
 "nbformat_minor": 4
}
