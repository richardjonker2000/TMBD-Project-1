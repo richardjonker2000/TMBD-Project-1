{
 "cells": [
  {
   "cell_type": "markdown",
   "metadata": {},
   "source": [
    "# **Group 2 - Work 1**\n",
    "\n",
    "Each group should choose between HLL or Boom filters and produce an iPynb file with python code and markdown, which:\n",
    "\n",
    "- Briefly explains what the algorithm’s purpose is [15%];\n",
    "- Discuss a possible (real) application of the algorithm [25%];\n",
    "- Describe the packages/microservices you are going to use [15%];\n",
    "- Implement the code simulating this real application [45%]."
   ]
  },
  {
   "cell_type": "markdown",
   "metadata": {},
   "source": [
    "## **Students :**\n",
    "- Daniel Filipe Vilhena Nunes (101220)\n",
    "- Prosper Ablordeppey (106382)\n",
    "- Richard Adolph Aires Jonker (109560)\n",
    "- Roshan Poudel (109806)"
   ]
  },
  {
   "cell_type": "markdown",
   "metadata": {},
   "source": [
    "# Hyper Log Log Algorithm (HLL)"
   ]
  },
  {
   "cell_type": "markdown",
   "metadata": {},
   "source": [
    "_All information in this section is based on (Flajolet et al., 2007)\n",
    "\n",
    "HLL is a probabilistic algorithm belonging to the family of Flajolet-Martin (FM) derived algorithms. The way FM works is by counting the trailing zeros of a hashed bit string and returning a probable count of distinct values in a data stream. Derived from it we find the LogLog algorithm and from this we derive the HLL algorithm.\n",
    "In essence, we count _leading_ zeros from a part of a hashed bit string, store them in an appropriate register and return a probable count of distinct values. \n",
    "\n",
    "The rationale is that if a bit string has length $L$, there are $2^L$ possible distinct values for it. If the first bit is 1, now there are only $2^{L-1}$ possible values – half of the total. So, if we denote by N the number of leading zeros of a bit string, we get that it has $2^{L-(N+1)}$ possible values. This is the basis for the HLL algorithm. Now, if we find a string that has $N’>N$ leading zeros, we assume that there are instead $2^{L-(N’+1)}$ distinct values. In essence, we store the highest count of leading zeros. \n",
    "\n",
    "If only one register is used, all we get is the highest count of leading zeros which leads to error. For instance, if the highest count is 8 in a 9-bit string, is it correct to assume that there is only one distinct value? Following the procedure in FM and LogLog, HLL also implements several registers, which reduces the error. As such, we define the HLL structure as being composed of $m$ registers where each will hold the highest count of leading zeros of a bit string assigned to it.\n",
    "\n",
    "Given the object ($d$) of data stream ($\\sigma$), we pass it as the argument of a hash function ($h: D \\rightarrow \\{0,1\\}^L$) which return a bit string of length $L$ ($h(d)$). The first $k$ bits of $h(d)$ indicate the register that will hold the count ($m=2^k$). The remaining bits of $h(d)$ (length is $L-k$) are the one where the number of leading zeros are counted. Namely, the value stored corresponds to the position of the leftmost bit with value $1$. Contrary to the usual programming paradigm, the first bit corresponds to a position of 1 and not of 0. If there are no bits with value zero, the value held is $L-k+1$. The highest count corresponding to a register is always the one to be stored.\n",
    "\n",
    "Afterwards, when the entire data stream has been processed, the product of the harmonic mean of $2^{N_i}$ ($z$), where $N_i$ is the count associated with the $i$-th register, with $m$ gives a first estimation of the true count of distinct values."
   ]
  },
  {
   "cell_type": "markdown",
   "metadata": {},
   "source": [
    "## Bias and Range Corrections\n",
    "\n",
    "Also introduced in (Flajolet et al., 2007) is the use of two corrections to the result previously obtained, these are determined as bias correction ($\\alpha_m$) and a range correction.\n",
    "\n",
    "### Bias Correction\n",
    "\n",
    "The parameter is given by:\n",
    "\n",
    "$$\\alpha_m = \\left(m \\int_0^\\infty \\left(\\log_2\\left(\\frac{2+u}{1+u}\\right)\\right)^m du\\right)^{-1}$$\n",
    "\n",
    "For some commonly used values of $m$:\n",
    "$\\alpha_{16} = 0.673$  \n",
    "$\\alpha_{32} = 0.697$  \n",
    "$\\alpha_{64} = 0.709$  \n",
    "$\\alpha_{m\\ge128} = \\frac{0.7213}{1+\\frac{1.079}{m}}$\n",
    "\n",
    "Multiplying this parameter by the previous estimation, a _raw estimation_ ($E$) is obtained:\n",
    "$$E = \\alpha_m m z$$\n",
    "\n",
    "### Range Correction"
   ]
  },
  {
   "attachments": {},
   "cell_type": "markdown",
   "metadata": {},
   "source": [
    "## Pseudo-Code Form\n",
    "\n"
   ]
  },
  {
   "cell_type": "markdown",
   "metadata": {},
   "source": [
    "## Implementation"
   ]
  },
  {
   "cell_type": "markdown",
   "metadata": {},
   "source": [
    "## How does HLL work?\n",
    "\n",
    "![HLL Algorithm](images/hll_original.png \"HyperLogLog Algorithm\")"
   ]
  },
  {
   "cell_type": "markdown",
   "metadata": {},
   "source": [
    "## Real world uses of HLL"
   ]
  },
  {
   "cell_type": "markdown",
   "metadata": {},
   "source": [
    "## Packages used"
   ]
  },
  {
   "cell_type": "markdown",
   "metadata": {},
   "source": [
    "## Implementation of HLL"
   ]
  },
  {
   "cell_type": "markdown",
   "metadata": {},
   "source": [
    "## Implementation of a Real World Application of HLL"
   ]
  },
  {
   "cell_type": "markdown",
   "metadata": {},
   "source": [
    "## References\n",
    "\n",
    "\n",
    "Flajolet et al. (2007), HyperLogLog: the analysis of a near-optimal cardinality estimation algorithm. 2007 Conference on Analysis of Algorithms, AofA 07, DMTCS proc. AH, 2007, 127–146\n",
    "\n"
   ]
  },
  {
   "cell_type": "markdown",
   "metadata": {},
   "source": []
  },
  {
   "cell_type": "code",
   "execution_count": 9,
   "metadata": {},
   "outputs": [
    {
     "name": "stdout",
     "output_type": "stream",
     "text": [
      "Size of our stream : 50000\n",
      "Results: {'test': 'HEY'}\n"
     ]
    }
   ],
   "source": [
    "import numpy as np\n",
    "import random \n",
    "import math\n",
    "import hashlib\n",
    "import statistics as st\n",
    "\n",
    "## Your test stream\n",
    "stream = []\n",
    "for i in range(50000):\n",
    "    # Randomly generated IPv4 address\n",
    "    ip = \".\".join(map(str, (random.randint(0, 255) for _ in range(4))))\n",
    "    stream.append(ip)\n",
    "    \n",
    "print(f\"Size of our stream : {len(stream)}\")\n",
    "\n",
    "## Implement the algorithm in here\n",
    "class BaseAlg:\n",
    "    stream = []\n",
    "    results = {}\n",
    "    x = 0\n",
    "    ## initilise the algorithm variables\n",
    "    ...\n",
    "\n",
    "    def alg(self):\n",
    "        ## Steram algorithm\n",
    "        self.results[\"test\"] = \"HEY\"\n",
    "    \n",
    "    def verify(self):\n",
    "        ## Exact algorithm (using all the stream) for comparison\n",
    "        self.results[\"Exact\"] = \"5000\"\n",
    "\n",
    "## Do not change\n",
    "class StreamAlg(BaseAlg):\n",
    "    def __init__(self, stream):\n",
    "        self.stream = stream\n",
    "        self.exec()\n",
    "        self.verify()\n",
    "\n",
    "    def exec(self):\n",
    "        for v in self.stream:\n",
    "            self.x = v\n",
    "            self.alg()\n",
    "        print('Results:',self.results) \n",
    "        \n",
    "SA = StreamAlg(stream)"
   ]
  },
  {
   "cell_type": "code",
   "execution_count": null,
   "metadata": {},
   "outputs": [],
   "source": []
  },
  {
   "cell_type": "code",
   "execution_count": null,
   "metadata": {},
   "outputs": [],
   "source": []
  }
 ],
 "metadata": {
  "interpreter": {
   "hash": "31f2aee4e71d21fbe5cf8b01ff0e069b9275f58929596ceb00d14d90e3e16cd6"
  },
  "kernelspec": {
   "display_name": "Python 3",
   "language": "python",
   "name": "python3"
  },
  "language_info": {
   "codemirror_mode": {
    "name": "ipython",
    "version": 3
   },
   "file_extension": ".py",
   "mimetype": "text/x-python",
   "name": "python",
   "nbconvert_exporter": "python",
   "pygments_lexer": "ipython3",
   "version": "3.8.5"
  }
 },
 "nbformat": 4,
 "nbformat_minor": 4
}
