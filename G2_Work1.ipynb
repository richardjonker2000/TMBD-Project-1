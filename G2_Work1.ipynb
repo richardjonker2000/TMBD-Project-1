{
 "cells": [
  {
   "cell_type": "markdown",
   "metadata": {},
   "source": [
    "# **Group 2 - Work 1**\n",
    "\n",
    "Each group should choose between HLL or Boom filters and produce an iPynb file with python code and markdown, which:\n",
    "\n",
    "- Briefly explains what the algorithm’s purpose is [15%];\n",
    "- Discuss a possible (real) application of the algorithm [25%];\n",
    "- Describe the packages/microservices you are going to use [15%];\n",
    "- Implement the code simulating this real application [45%]."
   ]
  },
  {
   "cell_type": "markdown",
   "metadata": {},
   "source": [
    "## **Students :**\n",
    "- Daniel Filipe Vilhena Nunes (101220)\n",
    "- Prosper Ablordeppey (106382)\n",
    "- Richard Adolph Aires Jonker (109560)\n",
    "- Roshan Poudel (109806)"
   ]
  },
  {
   "cell_type": "markdown",
   "metadata": {},
   "source": [
    "# Distinct Count Problems"
   ]
  },
  {
   "cell_type": "markdown",
   "metadata": {},
   "source": [
    "## Real World Cases"
   ]
  },
  {
   "cell_type": "markdown",
   "metadata": {},
   "source": [
    "# Hyper Log Log Algorithm (HLL)"
   ]
  },
  {
   "cell_type": "markdown",
   "metadata": {},
   "source": [
    "_All information in this section is based on (Flajolet et al., 2007)_\n",
    "\n",
    "HLL is a probabilistic algorithm belonging to the family of Flajolet-Martin (FM) derived algorithms. The way FM works is by counting the trailing zeros of a hashed bit string and returning a probable count of distinct values in a data stream. Derived from it we find the LogLog algorithm and from this we derive the HLL algorithm.\n",
    "In essence, we count _leading_ zeros from a part of a hashed bit string, store them in an appropriate register and return a probable count of distinct values. \n",
    "\n",
    "The rationale is that if a bit string has length $L$, there are $2^L$ possible distinct values for it. If the first bit is 1, now there are only $2^{L-1}$ possible values – half of the total. So, if we denote by N the number of leading zeros of a bit string, we get that it has $2^{L-(N+1)}$ possible values. This is the basis for the HLL algorithm. Now, if we find a string that has $N’>N$ leading zeros, we assume that there are instead $2^{L-(N’+1)}$ distinct values. In essence, we store the highest count of leading zeros. \n",
    "\n",
    "If only one register is used, all we get is the highest count of leading zeros which leads to error. For instance, if the highest count is 8 in a 9-bit string, is it correct to assume that there is only one distinct value? Following the procedure in FM and LogLog, HLL also implements several registers, which reduces the error. As such, we define the HLL structure as being composed of $m$ registers where each will hold the highest count of leading zeros of a bit string assigned to it.\n",
    "\n",
    "Given the object ($d$) of data stream ($\\sigma$), we pass it as the argument of a hash function ($h: D \\rightarrow \\{0,1\\}^L$) which return a bit string of length $L$ ($h(d)$). The first $k$ bits of $h(d)$ indicate the register that will hold the count ($m=2^k$). The remaining bits of $h(d)$ (length is $L-k$) are the one where the number of leading zeros are counted. Namely, the value stored corresponds to the position of the leftmost bit with value $1$. Contrary to the usual programming paradigm, the first bit corresponds to a position of 1 and not of 0. If there are no bits with value zero, the value held is $L-k+1$. The highest count corresponding to a register is always the one to be stored.\n",
    "\n",
    "Afterwards, when the entire data stream has been processed, the product of the harmonic mean of $2^{N_i}$ ($z$), where $N_i$ is the count associated with the $i$-th register, with $m$ gives a first estimation of the true count of distinct values."
   ]
  },
  {
   "cell_type": "markdown",
   "metadata": {},
   "source": [
    "## Bias and Range Corrections\n",
    "\n",
    "Also introduced in (Flajolet et al., 2007) is the use of two corrections to the result previously obtained, these are determined as _bias correction_ ($\\alpha_m$) and _range correction_.\n",
    "\n",
    "### Bias Correction\n",
    "\n",
    "The parameter is given by:\n",
    "\n",
    "$$\\alpha_m = \\left(m \\int_0^\\infty \\left(\\log_2\\left(\\frac{2+u}{1+u}\\right)\\right)^m du\\right)^{-1}$$\n",
    "\n",
    "For some commonly used values of $m$:\n",
    "$\\alpha_{16} = 0.673$  \n",
    "$\\alpha_{32} = 0.697$  \n",
    "$\\alpha_{64} = 0.709$  \n",
    "$\\alpha_{m\\ge128} = \\frac{0.7213}{1+\\frac{1.079}{m}}$\n",
    "\n",
    "Multiplying this parameter by the previous estimation, a raw estimation ($E$) is obtained:\n",
    "$$E = \\alpha_m m z$$\n",
    "\n",
    "### Range Correction\n",
    "\n",
    "Performance of the algorithm is divided in three ranges (defined through $E$ and $m$, each with an associated correction which gives the final count estimation ($E^*$).\n",
    "\n",
    "**Small range: $E \\le \\frac{5}{2}m$**  \n",
    "> Let $V$ be the number of registers equal to 0. \n",
    "If $V \\ne 0 \\rightarrow E^* := m\\log\\left(\\frac{m}{V}\\right)$, otherwise $E^* := E$\n",
    "\n",
    "**Intermediate range: $\\frac{5}{2}m < E \\le \\frac{1}{30}2^{32}$**  \n",
    "> No correction is applied, $E^* := E$\n",
    "\n",
    "**Large range: $E > \\frac{1}{30}2^{32}$**  \n",
    "> Simply set $E^*:= -2^{32} \\log\\left(1-\\frac{E}{2^{32}}\\right)$"
   ]
  },
  {
   "cell_type": "markdown",
   "metadata": {},
   "source": [
    "⚠️ Maybe remove this cell?\n",
    "\n",
    "\n",
    "## Pseudo Code Form\n",
    "\n",
    "\n",
    "\n",
    "![HLL Algorithm](images/hll_original.png \"HyperLogLog Algorithm\")"
   ]
  },
  {
   "cell_type": "markdown",
   "metadata": {},
   "source": [
    "# Implementation of HLL\n",
    "\n",
    "To implement the HLL algorithm, an object-based approach was taken. A class representing it was defined and its methods provide the desired functionalities - from the actual distinct count to comparing the result with an exact answer."
   ]
  },
  {
   "cell_type": "markdown",
   "metadata": {},
   "source": [
    "## Methods Description\n",
    "\n",
    "Methods included in the `HLLLAlg` class are:\n",
    "\n",
    "`hashString(self, value)`\n",
    "> Takes as input `value`, which is to say, an object of a data stream. This (if not already) is converted to `string` format and passed to a hash function (`sha1` was chosen). This hashed bit string is returned with a fixed length of 24.\n",
    "\n",
    "`initialise_registers(self)`\n",
    "> From the defined error rate, $m$ and $k$ are determined. The variable `hll_struct` is initialized as a dictionary of length $m$, with the each key corresponding to the number of the register and each value is initially set at 0.\n",
    "\n",
    "`alg(self, stream)`\n",
    "> Implementation of the HLL Algorithm previously described. Takes as input a data stream and returns a probabilistic count of distinct values in the stream.\n",
    "\n",
    "`verify(self, stream)`\n",
    "> Verification of the result. Simply prints the result of the implemented algorithm and the exact number of distinct values. The later being found by converting the stream to a Python **`set`** and pass it to Python's `len()` (length) function."
   ]
  },
  {
   "cell_type": "markdown",
   "metadata": {},
   "source": [
    "## The Code"
   ]
  },
  {
   "cell_type": "code",
   "execution_count": null,
   "metadata": {},
   "outputs": [],
   "source": [
    "import hashlib\n",
    "import math\n",
    "import numpy as np\n",
    "import random\n",
    "import statistics as st"
   ]
  },
  {
   "cell_type": "code",
   "execution_count": null,
   "metadata": {},
   "outputs": [],
   "source": [
    "# error rate allows us to determine the number of registers (m) to be used\n",
    "error_rate = 0.01\n",
    "class HLLAlg:\n",
    "\n",
    "    # First we need to define the hash function, converting a string with any length \n",
    "    # to a string of binary characters (0, 1) with fixed length (24)\n",
    "    def hashString(self, value):\n",
    "        if not isinstance(value, str):\n",
    "            value = str(value)\n",
    "        \n",
    "        hashcode=hashlib.sha1(value.encode('utf-8')).hexdigest()\n",
    "        bin_code = bin(int(hashcode, 16))[-24:].zfill(24)\n",
    "    \n",
    "        return bin_code\n",
    "\n",
    "    # Here registers are initialized as 0, with m being determined from the desired error rate\n",
    "    def initialise_registers(self):\n",
    "        #self.k = 4\n",
    "        if error_rate is not None:\n",
    "            self.m = (1.04/error_rate)**2\n",
    "            self.k = math.ceil(math.log(self.m, 2))\n",
    "        self.m = 2**self.k\n",
    "        self.hll_struct = {r: 0 for r in range(self.m)}\n",
    "    \n",
    "\n",
    "    # Now for the algorithm itself\n",
    "    def alg(self, stream):\n",
    "        self.initialise_registers()\n",
    "        for d in stream:\n",
    "            # Map the object d from a data stream using the defined hash function\n",
    "            dh = self.hashString(d)\n",
    "            # Selecting the first k digits of dh to determine the register (converting the value to int)\n",
    "            r = int(dh[:self.k], 2)\n",
    "            # The remaining digits are where we count the leading 0s\n",
    "            q = dh[self.k:]\n",
    "            \n",
    "            # If the hashed string is 000...0, we register its length+1, \n",
    "            # as if the first 1 was just outside the string\n",
    "            if q.find(\"1\") == -1:\n",
    "                count = len(q)+1\n",
    "            # Otherwise we find the position of the 1 in the string and just add 1 to it.\n",
    "            # Equivalent to counting from 1 instead of from 0\n",
    "            else:\n",
    "                count = q.find(\"1\")+1\n",
    "                \n",
    "            # Now, if the count is higher than what is already in the designated register\n",
    "            # we keep the new count, otherwise we won't change it\n",
    "            if (count > self.hll_struct[r]):\n",
    "                self.hll_struct[r] = count\n",
    "\n",
    "        # We take all registered counts and use them to make a list of powers of 2\n",
    "        # Imagine the register has 0, that means there were no leading zeros in a string of length L\n",
    "        # Which means that there are 2^(L-1) possible values for it\n",
    "        # Or of the 2^L possible values for said string, half of them don't start with a zero\n",
    "        # This 2^x gives us the inverse of that probability\n",
    "        v = [2**x for x in self.hll_struct.values()]\n",
    "                \n",
    "        # According to the original article, we now take the harmonic mean of the entire list of powers of 2\n",
    "        z = st.harmonic_mean(v)\n",
    "        \n",
    "        # Alfa is a correction parameter also introduced in the article    \n",
    "        alfa_dict = {16: 0.673, 32: 0.697, 64: 0.709, 128: 0.7213/(1+(1.079/self.m))}\n",
    "        alfa = alfa_dict[128]\n",
    "\n",
    "        # So the raw estimation is alfa*m*z. Te article says m^2 instead of m.\n",
    "        # But in the article z is defined as the harmonic mean/m\n",
    "        # Which means that this is equivalent\n",
    "        raw = alfa*self.m*z\n",
    "        \n",
    "        # These are the range corrections also introduced in the article\n",
    "        # The algorithm works really well for that intermediate range. \n",
    "        # Below or above that it needs some help\n",
    "        if raw <= 2.5*self.m:\n",
    "            print(\"Small range correction\")\n",
    "            u = len([x for x in self.hll_struct.values() if x==0])\n",
    "            if u != 0:\n",
    "                return self.m*math.log(self.m/u)\n",
    "            else:\n",
    "                return raw\n",
    "        elif raw <= (1/30)*2**32:\n",
    "            print(\"Intermediate range correction\")\n",
    "            return raw\n",
    "        else:\n",
    "            print(\"Large range correction\")\n",
    "            return -(2**32)*math.log(1-raw/(2**32))\n",
    "                \n",
    "        return 0\n",
    "      \n",
    "\n",
    "    def verify(self, stream):\n",
    "        print(\"Estimated distinct values: %f\" % self.alg(stream))\n",
    "        print(\"Actual distinct values: %d\" % len(set(stream)))"
   ]
  },
  {
   "cell_type": "markdown",
   "metadata": {},
   "source": [
    "## References\n",
    "\n",
    "\n",
    "Flajolet et al. (2007), HyperLogLog: the analysis of a near-optimal cardinality estimation algorithm. 2007 Conference on Analysis of Algorithms, AofA 07, DMTCS proc. AH, 2007, 127–146\n",
    "\n"
   ]
  },
  {
   "cell_type": "markdown",
   "metadata": {},
   "source": []
  },
  {
   "cell_type": "code",
   "execution_count": 9,
   "metadata": {},
   "outputs": [
    {
     "name": "stdout",
     "output_type": "stream",
     "text": [
      "Size of our stream : 50000\n",
      "Results: {'test': 'HEY'}\n"
     ]
    }
   ],
   "source": [
    "import numpy as np\n",
    "import random \n",
    "import math\n",
    "import hashlib\n",
    "import statistics as st\n",
    "\n",
    "## Your test stream\n",
    "stream = []\n",
    "for i in range(50000):\n",
    "    # Randomly generated IPv4 address\n",
    "    ip = \".\".join(map(str, (random.randint(0, 255) for _ in range(4))))\n",
    "    stream.append(ip)\n",
    "    \n",
    "print(f\"Size of our stream : {len(stream)}\")\n",
    "\n",
    "## Implement the algorithm in here\n",
    "class BaseAlg:\n",
    "    stream = []\n",
    "    results = {}\n",
    "    x = 0\n",
    "    ## initilise the algorithm variables\n",
    "    ...\n",
    "\n",
    "    def alg(self):\n",
    "        ## Steram algorithm\n",
    "        self.results[\"test\"] = \"HEY\"\n",
    "    \n",
    "    def verify(self):\n",
    "        ## Exact algorithm (using all the stream) for comparison\n",
    "        self.results[\"Exact\"] = \"5000\"\n",
    "\n",
    "## Do not change\n",
    "class StreamAlg(BaseAlg):\n",
    "    def __init__(self, stream):\n",
    "        self.stream = stream\n",
    "        self.exec()\n",
    "        self.verify()\n",
    "\n",
    "    def exec(self):\n",
    "        for v in self.stream:\n",
    "            self.x = v\n",
    "            self.alg()\n",
    "        print('Results:',self.results) \n",
    "        \n",
    "SA = StreamAlg(stream)"
   ]
  },
  {
   "cell_type": "code",
   "execution_count": null,
   "metadata": {},
   "outputs": [],
   "source": []
  },
  {
   "cell_type": "code",
   "execution_count": null,
   "metadata": {},
   "outputs": [],
   "source": []
  }
 ],
 "metadata": {
  "interpreter": {
   "hash": "31f2aee4e71d21fbe5cf8b01ff0e069b9275f58929596ceb00d14d90e3e16cd6"
  },
  "kernelspec": {
   "display_name": "Python 3",
   "language": "python",
   "name": "python3"
  },
  "language_info": {
   "codemirror_mode": {
    "name": "ipython",
    "version": 3
   },
   "file_extension": ".py",
   "mimetype": "text/x-python",
   "name": "python",
   "nbconvert_exporter": "python",
   "pygments_lexer": "ipython3",
   "version": "3.8.5"
  }
 },
 "nbformat": 4,
 "nbformat_minor": 4
}
